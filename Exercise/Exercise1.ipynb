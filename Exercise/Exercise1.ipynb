{
 "cells": [
  {
   "attachments": {},
   "cell_type": "markdown",
   "metadata": {},
   "source": [
    "# Exercise 1. Mining Frequent Patterns, Association Rule Mining and Correlation "
   ]
  },
  {
   "attachments": {},
   "cell_type": "markdown",
   "metadata": {},
   "source": [
    "## 6.6"
   ]
  },
  {
   "cell_type": "code",
   "execution_count": 1,
   "metadata": {},
   "outputs": [],
   "source": [
    "import pandas as pd"
   ]
  },
  {
   "cell_type": "code",
   "execution_count": 2,
   "metadata": {},
   "outputs": [
    {
     "data": {
      "text/html": [
       "<div>\n",
       "<style scoped>\n",
       "    .dataframe tbody tr th:only-of-type {\n",
       "        vertical-align: middle;\n",
       "    }\n",
       "\n",
       "    .dataframe tbody tr th {\n",
       "        vertical-align: top;\n",
       "    }\n",
       "\n",
       "    .dataframe thead th {\n",
       "        text-align: right;\n",
       "    }\n",
       "</style>\n",
       "<table border=\"1\" class=\"dataframe\">\n",
       "  <thead>\n",
       "    <tr style=\"text-align: right;\">\n",
       "      <th></th>\n",
       "      <th>items_brought</th>\n",
       "    </tr>\n",
       "    <tr>\n",
       "      <th>TID</th>\n",
       "      <th></th>\n",
       "    </tr>\n",
       "  </thead>\n",
       "  <tbody>\n",
       "    <tr>\n",
       "      <th>T100</th>\n",
       "      <td>[M, O, N, K, E, Y]</td>\n",
       "    </tr>\n",
       "    <tr>\n",
       "      <th>T200</th>\n",
       "      <td>[D, O, N, K, E, Y]</td>\n",
       "    </tr>\n",
       "    <tr>\n",
       "      <th>T300</th>\n",
       "      <td>[M, A, K, E]</td>\n",
       "    </tr>\n",
       "    <tr>\n",
       "      <th>T400</th>\n",
       "      <td>[M, U, C, K, Y]</td>\n",
       "    </tr>\n",
       "    <tr>\n",
       "      <th>T500</th>\n",
       "      <td>[C, O, O, K, I, E]</td>\n",
       "    </tr>\n",
       "  </tbody>\n",
       "</table>\n",
       "</div>"
      ],
      "text/plain": [
       "           items_brought\n",
       "TID                     \n",
       "T100  [M, O, N, K, E, Y]\n",
       "T200  [D, O, N, K, E, Y]\n",
       "T300        [M, A, K, E]\n",
       "T400     [M, U, C, K, Y]\n",
       "T500  [C, O, O, K, I, E]"
      ]
     },
     "execution_count": 2,
     "metadata": {},
     "output_type": "execute_result"
    }
   ],
   "source": [
    "data = {'TID':[\"T100\",\"T200\",\"T300\",\"T400\",\"T500\"],\n",
    "        'items_brought':[[\"M\", \"O\", \"N\", \"K\", \"E\", \"Y\"],\n",
    "                         [\"D\", \"O\", \"N\", \"K\", \"E\", \"Y\"],\n",
    "                         [\"M\", \"A\", \"K\", \"E\"],\n",
    "                         [\"M\", \"U\", \"C\", \"K\", \"Y\"],\n",
    "                         [\"C\", \"O\", \"O\", \"K\", \"I\", \"E\"]]}\n",
    "\n",
    "df = pd.DataFrame(data)\n",
    "df = df.set_index(\"TID\")\n",
    "min_sp = 0.6\n",
    "min_thres = 0.8\n",
    "df "
   ]
  },
  {
   "attachments": {},
   "cell_type": "markdown",
   "metadata": {},
   "source": [
    "(a) Finding frequent itemsets using Apriori and FP-growth:\n"
   ]
  },
  {
   "cell_type": "code",
   "execution_count": 3,
   "metadata": {},
   "outputs": [],
   "source": [
    "from mlxtend.preprocessing import TransactionEncoder\n",
    "\n",
    "# Convert the list of transactions to a pandas DataFrame\n",
    "te = TransactionEncoder()\n",
    "te_ary = te.fit_transform(df['items_brought'])\n",
    "df_encoded = pd.DataFrame(te_ary, columns=te.columns_, index=df.index)\n",
    "df_encoded_display = df_encoded.replace(False,0)\n",
    "df_encoded_display = df_encoded_display.replace(True,1)"
   ]
  },
  {
   "cell_type": "code",
   "execution_count": 4,
   "metadata": {},
   "outputs": [
    {
     "data": {
      "text/html": [
       "<div>\n",
       "<style scoped>\n",
       "    .dataframe tbody tr th:only-of-type {\n",
       "        vertical-align: middle;\n",
       "    }\n",
       "\n",
       "    .dataframe tbody tr th {\n",
       "        vertical-align: top;\n",
       "    }\n",
       "\n",
       "    .dataframe thead th {\n",
       "        text-align: right;\n",
       "    }\n",
       "</style>\n",
       "<table border=\"1\" class=\"dataframe\">\n",
       "  <thead>\n",
       "    <tr style=\"text-align: right;\">\n",
       "      <th></th>\n",
       "      <th>A</th>\n",
       "      <th>C</th>\n",
       "      <th>D</th>\n",
       "      <th>E</th>\n",
       "      <th>I</th>\n",
       "      <th>K</th>\n",
       "      <th>M</th>\n",
       "      <th>N</th>\n",
       "      <th>O</th>\n",
       "      <th>U</th>\n",
       "      <th>Y</th>\n",
       "    </tr>\n",
       "    <tr>\n",
       "      <th>TID</th>\n",
       "      <th></th>\n",
       "      <th></th>\n",
       "      <th></th>\n",
       "      <th></th>\n",
       "      <th></th>\n",
       "      <th></th>\n",
       "      <th></th>\n",
       "      <th></th>\n",
       "      <th></th>\n",
       "      <th></th>\n",
       "      <th></th>\n",
       "    </tr>\n",
       "  </thead>\n",
       "  <tbody>\n",
       "    <tr>\n",
       "      <th>T100</th>\n",
       "      <td>0</td>\n",
       "      <td>0</td>\n",
       "      <td>0</td>\n",
       "      <td>1</td>\n",
       "      <td>0</td>\n",
       "      <td>1</td>\n",
       "      <td>1</td>\n",
       "      <td>1</td>\n",
       "      <td>1</td>\n",
       "      <td>0</td>\n",
       "      <td>1</td>\n",
       "    </tr>\n",
       "    <tr>\n",
       "      <th>T200</th>\n",
       "      <td>0</td>\n",
       "      <td>0</td>\n",
       "      <td>1</td>\n",
       "      <td>1</td>\n",
       "      <td>0</td>\n",
       "      <td>1</td>\n",
       "      <td>0</td>\n",
       "      <td>1</td>\n",
       "      <td>1</td>\n",
       "      <td>0</td>\n",
       "      <td>1</td>\n",
       "    </tr>\n",
       "    <tr>\n",
       "      <th>T300</th>\n",
       "      <td>1</td>\n",
       "      <td>0</td>\n",
       "      <td>0</td>\n",
       "      <td>1</td>\n",
       "      <td>0</td>\n",
       "      <td>1</td>\n",
       "      <td>1</td>\n",
       "      <td>0</td>\n",
       "      <td>0</td>\n",
       "      <td>0</td>\n",
       "      <td>0</td>\n",
       "    </tr>\n",
       "    <tr>\n",
       "      <th>T400</th>\n",
       "      <td>0</td>\n",
       "      <td>1</td>\n",
       "      <td>0</td>\n",
       "      <td>0</td>\n",
       "      <td>0</td>\n",
       "      <td>1</td>\n",
       "      <td>1</td>\n",
       "      <td>0</td>\n",
       "      <td>0</td>\n",
       "      <td>1</td>\n",
       "      <td>1</td>\n",
       "    </tr>\n",
       "    <tr>\n",
       "      <th>T500</th>\n",
       "      <td>0</td>\n",
       "      <td>1</td>\n",
       "      <td>0</td>\n",
       "      <td>1</td>\n",
       "      <td>1</td>\n",
       "      <td>1</td>\n",
       "      <td>0</td>\n",
       "      <td>0</td>\n",
       "      <td>1</td>\n",
       "      <td>0</td>\n",
       "      <td>0</td>\n",
       "    </tr>\n",
       "  </tbody>\n",
       "</table>\n",
       "</div>"
      ],
      "text/plain": [
       "      A  C  D  E  I  K  M  N  O  U  Y\n",
       "TID                                  \n",
       "T100  0  0  0  1  0  1  1  1  1  0  1\n",
       "T200  0  0  1  1  0  1  0  1  1  0  1\n",
       "T300  1  0  0  1  0  1  1  0  0  0  0\n",
       "T400  0  1  0  0  0  1  1  0  0  1  1\n",
       "T500  0  1  0  1  1  1  0  0  1  0  0"
      ]
     },
     "execution_count": 4,
     "metadata": {},
     "output_type": "execute_result"
    }
   ],
   "source": [
    "df_encoded_display"
   ]
  },
  {
   "cell_type": "code",
   "execution_count": 5,
   "metadata": {},
   "outputs": [
    {
     "data": {
      "text/plain": [
       "pandas.core.frame.DataFrame"
      ]
     },
     "execution_count": 5,
     "metadata": {},
     "output_type": "execute_result"
    }
   ],
   "source": [
    "type(df_encoded)"
   ]
  },
  {
   "attachments": {},
   "cell_type": "markdown",
   "metadata": {},
   "source": [
    "Apriori Algorithm:"
   ]
  },
  {
   "cell_type": "code",
   "execution_count": 6,
   "metadata": {},
   "outputs": [
    {
     "name": "stdout",
     "output_type": "stream",
     "text": [
      "Processing 21 combinations | Sampling itemset size 3\n"
     ]
    },
    {
     "data": {
      "text/html": [
       "<div>\n",
       "<style scoped>\n",
       "    .dataframe tbody tr th:only-of-type {\n",
       "        vertical-align: middle;\n",
       "    }\n",
       "\n",
       "    .dataframe tbody tr th {\n",
       "        vertical-align: top;\n",
       "    }\n",
       "\n",
       "    .dataframe thead th {\n",
       "        text-align: right;\n",
       "    }\n",
       "</style>\n",
       "<table border=\"1\" class=\"dataframe\">\n",
       "  <thead>\n",
       "    <tr style=\"text-align: right;\">\n",
       "      <th></th>\n",
       "      <th>support</th>\n",
       "      <th>itemsets</th>\n",
       "    </tr>\n",
       "  </thead>\n",
       "  <tbody>\n",
       "    <tr>\n",
       "      <th>0</th>\n",
       "      <td>0.8</td>\n",
       "      <td>(E)</td>\n",
       "    </tr>\n",
       "    <tr>\n",
       "      <th>1</th>\n",
       "      <td>1.0</td>\n",
       "      <td>(K)</td>\n",
       "    </tr>\n",
       "    <tr>\n",
       "      <th>2</th>\n",
       "      <td>0.6</td>\n",
       "      <td>(M)</td>\n",
       "    </tr>\n",
       "    <tr>\n",
       "      <th>3</th>\n",
       "      <td>0.6</td>\n",
       "      <td>(O)</td>\n",
       "    </tr>\n",
       "    <tr>\n",
       "      <th>4</th>\n",
       "      <td>0.6</td>\n",
       "      <td>(Y)</td>\n",
       "    </tr>\n",
       "    <tr>\n",
       "      <th>5</th>\n",
       "      <td>0.8</td>\n",
       "      <td>(K, E)</td>\n",
       "    </tr>\n",
       "    <tr>\n",
       "      <th>6</th>\n",
       "      <td>0.6</td>\n",
       "      <td>(E, O)</td>\n",
       "    </tr>\n",
       "    <tr>\n",
       "      <th>7</th>\n",
       "      <td>0.6</td>\n",
       "      <td>(K, M)</td>\n",
       "    </tr>\n",
       "    <tr>\n",
       "      <th>8</th>\n",
       "      <td>0.6</td>\n",
       "      <td>(K, O)</td>\n",
       "    </tr>\n",
       "    <tr>\n",
       "      <th>9</th>\n",
       "      <td>0.6</td>\n",
       "      <td>(K, Y)</td>\n",
       "    </tr>\n",
       "    <tr>\n",
       "      <th>10</th>\n",
       "      <td>0.6</td>\n",
       "      <td>(K, E, O)</td>\n",
       "    </tr>\n",
       "  </tbody>\n",
       "</table>\n",
       "</div>"
      ],
      "text/plain": [
       "    support   itemsets\n",
       "0       0.8        (E)\n",
       "1       1.0        (K)\n",
       "2       0.6        (M)\n",
       "3       0.6        (O)\n",
       "4       0.6        (Y)\n",
       "5       0.8     (K, E)\n",
       "6       0.6     (E, O)\n",
       "7       0.6     (K, M)\n",
       "8       0.6     (K, O)\n",
       "9       0.6     (K, Y)\n",
       "10      0.6  (K, E, O)"
      ]
     },
     "metadata": {},
     "output_type": "display_data"
    },
    {
     "name": "stdout",
     "output_type": "stream",
     "text": [
      "Apriori exectution time:  0.01310586929321289\n"
     ]
    }
   ],
   "source": [
    "from mlxtend.frequent_patterns import apriori\n",
    "import time\n",
    "\n",
    "# Measure execution time of Apriori algorithm\n",
    "start_time = time.time()\n",
    "# Applying Apriori algorithm\n",
    "frequent_itemsets_apriori = apriori(df_encoded, \n",
    "                                    min_support=0.6, \n",
    "                                    use_colnames=True, verbose=1)\n",
    "\n",
    "# # Sorting by support in descending order\n",
    "# frequent_itemsets_apriori = frequent_itemsets_apriori.sort_values(by='support', \n",
    "#                                                                   ascending=False)\n",
    "apriori_execution_time = time.time() - start_time\n",
    "\n",
    "display(frequent_itemsets_apriori)\n",
    "print(\"Apriori exectution time: \", apriori_execution_time)"
   ]
  },
  {
   "attachments": {},
   "cell_type": "markdown",
   "metadata": {},
   "source": [
    "FP-growth Algorithm:"
   ]
  },
  {
   "cell_type": "code",
   "execution_count": 7,
   "metadata": {},
   "outputs": [
    {
     "name": "stdout",
     "output_type": "stream",
     "text": [
      "5 itemset(s) from tree conditioned on items ()\n",
      "0 itemset(s) from tree conditioned on items (K)\n",
      "1 itemset(s) from tree conditioned on items (E)\n",
      "1 itemset(s) from tree conditioned on items (Y)\n",
      "3 itemset(s) from tree conditioned on items (O)\n",
      "1 itemset(s) from tree conditioned on items (M)\n"
     ]
    },
    {
     "data": {
      "text/html": [
       "<div>\n",
       "<style scoped>\n",
       "    .dataframe tbody tr th:only-of-type {\n",
       "        vertical-align: middle;\n",
       "    }\n",
       "\n",
       "    .dataframe tbody tr th {\n",
       "        vertical-align: top;\n",
       "    }\n",
       "\n",
       "    .dataframe thead th {\n",
       "        text-align: right;\n",
       "    }\n",
       "</style>\n",
       "<table border=\"1\" class=\"dataframe\">\n",
       "  <thead>\n",
       "    <tr style=\"text-align: right;\">\n",
       "      <th></th>\n",
       "      <th>support</th>\n",
       "      <th>itemsets</th>\n",
       "    </tr>\n",
       "  </thead>\n",
       "  <tbody>\n",
       "    <tr>\n",
       "      <th>0</th>\n",
       "      <td>1.0</td>\n",
       "      <td>(K)</td>\n",
       "    </tr>\n",
       "    <tr>\n",
       "      <th>1</th>\n",
       "      <td>0.8</td>\n",
       "      <td>(E)</td>\n",
       "    </tr>\n",
       "    <tr>\n",
       "      <th>5</th>\n",
       "      <td>0.8</td>\n",
       "      <td>(K, E)</td>\n",
       "    </tr>\n",
       "    <tr>\n",
       "      <th>2</th>\n",
       "      <td>0.6</td>\n",
       "      <td>(Y)</td>\n",
       "    </tr>\n",
       "    <tr>\n",
       "      <th>3</th>\n",
       "      <td>0.6</td>\n",
       "      <td>(O)</td>\n",
       "    </tr>\n",
       "    <tr>\n",
       "      <th>4</th>\n",
       "      <td>0.6</td>\n",
       "      <td>(M)</td>\n",
       "    </tr>\n",
       "    <tr>\n",
       "      <th>6</th>\n",
       "      <td>0.6</td>\n",
       "      <td>(K, Y)</td>\n",
       "    </tr>\n",
       "    <tr>\n",
       "      <th>7</th>\n",
       "      <td>0.6</td>\n",
       "      <td>(E, O)</td>\n",
       "    </tr>\n",
       "    <tr>\n",
       "      <th>8</th>\n",
       "      <td>0.6</td>\n",
       "      <td>(K, O)</td>\n",
       "    </tr>\n",
       "    <tr>\n",
       "      <th>9</th>\n",
       "      <td>0.6</td>\n",
       "      <td>(K, E, O)</td>\n",
       "    </tr>\n",
       "    <tr>\n",
       "      <th>10</th>\n",
       "      <td>0.6</td>\n",
       "      <td>(K, M)</td>\n",
       "    </tr>\n",
       "  </tbody>\n",
       "</table>\n",
       "</div>"
      ],
      "text/plain": [
       "    support   itemsets\n",
       "0       1.0        (K)\n",
       "1       0.8        (E)\n",
       "5       0.8     (K, E)\n",
       "2       0.6        (Y)\n",
       "3       0.6        (O)\n",
       "4       0.6        (M)\n",
       "6       0.6     (K, Y)\n",
       "7       0.6     (E, O)\n",
       "8       0.6     (K, O)\n",
       "9       0.6  (K, E, O)\n",
       "10      0.6     (K, M)"
      ]
     },
     "metadata": {},
     "output_type": "display_data"
    },
    {
     "name": "stdout",
     "output_type": "stream",
     "text": [
      "fpgrowth exectution time:  0.013820886611938477\n"
     ]
    }
   ],
   "source": [
    "from mlxtend.frequent_patterns import fpgrowth\n",
    "# Measure execution time of Apriori algorithm\n",
    "start_time = time.time()\n",
    "# Applying FP-growth algorithm\n",
    "frequent_itemsets_fpgrowth = fpgrowth(df_encoded, \n",
    "                                      min_support=0.6, \n",
    "                                      use_colnames=True, verbose=1)\n",
    "# Sorting by support in descending order\n",
    "frequent_itemsets_fpgrowth = frequent_itemsets_fpgrowth.sort_values(by='support', ascending=False)\n",
    "\n",
    "fpgrowth_execution_time = time.time() - start_time\n",
    "\n",
    "display(frequent_itemsets_fpgrowth)\n",
    "print(\"fpgrowth exectution time: \", fpgrowth_execution_time)\n"
   ]
  },
  {
   "attachments": {},
   "cell_type": "markdown",
   "metadata": {},
   "source": [
    "(b) Listing strong association rules matching a metarule:"
   ]
  },
  {
   "attachments": {},
   "cell_type": "markdown",
   "metadata": {},
   "source": [
    "Apriori Algorithm has three parts:\n",
    "1. Support\n",
    "2. Confidence\n",
    "3. Lift\n",
    "\n",
    "\n",
    "Support( I ) = ( Number of transactions containing item I ) / ( Total number of transactions )\n",
    "\n",
    "Confidence( I1 -> I2 ) = ( Number of transactions containing I1 and I2 ) / ( Number of transactions containing I1 )\n",
    "\n",
    "Lift( I1 -> I2 ) =  Confidence( I1 -> I2 ) /  Support(I2)\n",
    "\n",
    "Lift values means that there is x% chance that the customers who buy I1 are likely to buy I2. "
   ]
  },
  {
   "cell_type": "code",
   "execution_count": 8,
   "metadata": {},
   "outputs": [
    {
     "data": {
      "text/html": [
       "<div>\n",
       "<style scoped>\n",
       "    .dataframe tbody tr th:only-of-type {\n",
       "        vertical-align: middle;\n",
       "    }\n",
       "\n",
       "    .dataframe tbody tr th {\n",
       "        vertical-align: top;\n",
       "    }\n",
       "\n",
       "    .dataframe thead th {\n",
       "        text-align: right;\n",
       "    }\n",
       "</style>\n",
       "<table border=\"1\" class=\"dataframe\">\n",
       "  <thead>\n",
       "    <tr style=\"text-align: right;\">\n",
       "      <th></th>\n",
       "      <th>antecedents</th>\n",
       "      <th>consequents</th>\n",
       "      <th>antecedent support</th>\n",
       "      <th>consequent support</th>\n",
       "      <th>support</th>\n",
       "      <th>confidence</th>\n",
       "      <th>lift</th>\n",
       "    </tr>\n",
       "  </thead>\n",
       "  <tbody>\n",
       "    <tr>\n",
       "      <th>0</th>\n",
       "      <td>(K)</td>\n",
       "      <td>(E)</td>\n",
       "      <td>1.0</td>\n",
       "      <td>0.8</td>\n",
       "      <td>0.8</td>\n",
       "      <td>0.8</td>\n",
       "      <td>1.00</td>\n",
       "    </tr>\n",
       "    <tr>\n",
       "      <th>1</th>\n",
       "      <td>(E)</td>\n",
       "      <td>(K)</td>\n",
       "      <td>0.8</td>\n",
       "      <td>1.0</td>\n",
       "      <td>0.8</td>\n",
       "      <td>1.0</td>\n",
       "      <td>1.00</td>\n",
       "    </tr>\n",
       "    <tr>\n",
       "      <th>2</th>\n",
       "      <td>(O)</td>\n",
       "      <td>(E)</td>\n",
       "      <td>0.6</td>\n",
       "      <td>0.8</td>\n",
       "      <td>0.6</td>\n",
       "      <td>1.0</td>\n",
       "      <td>1.25</td>\n",
       "    </tr>\n",
       "    <tr>\n",
       "      <th>3</th>\n",
       "      <td>(M)</td>\n",
       "      <td>(K)</td>\n",
       "      <td>0.6</td>\n",
       "      <td>1.0</td>\n",
       "      <td>0.6</td>\n",
       "      <td>1.0</td>\n",
       "      <td>1.00</td>\n",
       "    </tr>\n",
       "    <tr>\n",
       "      <th>4</th>\n",
       "      <td>(O)</td>\n",
       "      <td>(K)</td>\n",
       "      <td>0.6</td>\n",
       "      <td>1.0</td>\n",
       "      <td>0.6</td>\n",
       "      <td>1.0</td>\n",
       "      <td>1.00</td>\n",
       "    </tr>\n",
       "    <tr>\n",
       "      <th>5</th>\n",
       "      <td>(Y)</td>\n",
       "      <td>(K)</td>\n",
       "      <td>0.6</td>\n",
       "      <td>1.0</td>\n",
       "      <td>0.6</td>\n",
       "      <td>1.0</td>\n",
       "      <td>1.00</td>\n",
       "    </tr>\n",
       "    <tr>\n",
       "      <th>6</th>\n",
       "      <td>(K, O)</td>\n",
       "      <td>(E)</td>\n",
       "      <td>0.6</td>\n",
       "      <td>0.8</td>\n",
       "      <td>0.6</td>\n",
       "      <td>1.0</td>\n",
       "      <td>1.25</td>\n",
       "    </tr>\n",
       "    <tr>\n",
       "      <th>7</th>\n",
       "      <td>(O, E)</td>\n",
       "      <td>(K)</td>\n",
       "      <td>0.6</td>\n",
       "      <td>1.0</td>\n",
       "      <td>0.6</td>\n",
       "      <td>1.0</td>\n",
       "      <td>1.00</td>\n",
       "    </tr>\n",
       "    <tr>\n",
       "      <th>8</th>\n",
       "      <td>(O)</td>\n",
       "      <td>(K, E)</td>\n",
       "      <td>0.6</td>\n",
       "      <td>0.8</td>\n",
       "      <td>0.6</td>\n",
       "      <td>1.0</td>\n",
       "      <td>1.25</td>\n",
       "    </tr>\n",
       "  </tbody>\n",
       "</table>\n",
       "</div>"
      ],
      "text/plain": [
       "  antecedents consequents  antecedent support  consequent support  support   \n",
       "0         (K)         (E)                 1.0                 0.8      0.8  \\\n",
       "1         (E)         (K)                 0.8                 1.0      0.8   \n",
       "2         (O)         (E)                 0.6                 0.8      0.6   \n",
       "3         (M)         (K)                 0.6                 1.0      0.6   \n",
       "4         (O)         (K)                 0.6                 1.0      0.6   \n",
       "5         (Y)         (K)                 0.6                 1.0      0.6   \n",
       "6      (K, O)         (E)                 0.6                 0.8      0.6   \n",
       "7      (O, E)         (K)                 0.6                 1.0      0.6   \n",
       "8         (O)      (K, E)                 0.6                 0.8      0.6   \n",
       "\n",
       "   confidence  lift  \n",
       "0         0.8  1.00  \n",
       "1         1.0  1.00  \n",
       "2         1.0  1.25  \n",
       "3         1.0  1.00  \n",
       "4         1.0  1.00  \n",
       "5         1.0  1.00  \n",
       "6         1.0  1.25  \n",
       "7         1.0  1.00  \n",
       "8         1.0  1.25  "
      ]
     },
     "execution_count": 8,
     "metadata": {},
     "output_type": "execute_result"
    }
   ],
   "source": [
    "from mlxtend.frequent_patterns import association_rules\n",
    "\n",
    "# Applying association rule mining\n",
    "association_rules_df = association_rules(frequent_itemsets_apriori, metric=\"confidence\", min_threshold=0.8)\n",
    "association_rules_df.drop([\"leverage\",\"conviction\",\"zhangs_metric\"], axis = 1)"
   ]
  },
  {
   "attachments": {},
   "cell_type": "markdown",
   "metadata": {},
   "source": [
    "Describe Example: Custromer X will choose list of character items (limit on set of character for this question) and getting back recommended for the other characters which are frequently come along with the choosen one. "
   ]
  },
  {
   "cell_type": "code",
   "execution_count": 9,
   "metadata": {},
   "outputs": [
    {
     "name": "stdout",
     "output_type": "stream",
     "text": [
      "Items: ['K', 'M', 'O', 'I']\n"
     ]
    },
    {
     "data": {
      "text/plain": [
       "[frozenset({'K'}),\n",
       " frozenset({'M'}),\n",
       " frozenset({'O'}),\n",
       " frozenset({'I'}),\n",
       " frozenset({'K', 'M'}),\n",
       " frozenset({'K', 'O'}),\n",
       " frozenset({'I', 'K'}),\n",
       " frozenset({'M', 'O'}),\n",
       " frozenset({'I', 'M'}),\n",
       " frozenset({'I', 'O'}),\n",
       " frozenset({'K', 'M', 'O'}),\n",
       " frozenset({'I', 'K', 'M'}),\n",
       " frozenset({'I', 'K', 'O'}),\n",
       " frozenset({'I', 'M', 'O'}),\n",
       " frozenset({'I', 'K', 'M', 'O'})]"
      ]
     },
     "metadata": {},
     "output_type": "display_data"
    },
    {
     "data": {
      "text/html": [
       "<div>\n",
       "<style scoped>\n",
       "    .dataframe tbody tr th:only-of-type {\n",
       "        vertical-align: middle;\n",
       "    }\n",
       "\n",
       "    .dataframe tbody tr th {\n",
       "        vertical-align: top;\n",
       "    }\n",
       "\n",
       "    .dataframe thead th {\n",
       "        text-align: right;\n",
       "    }\n",
       "</style>\n",
       "<table border=\"1\" class=\"dataframe\">\n",
       "  <thead>\n",
       "    <tr style=\"text-align: right;\">\n",
       "      <th></th>\n",
       "      <th>antecedents</th>\n",
       "      <th>consequents</th>\n",
       "      <th>antecedent support</th>\n",
       "      <th>consequent support</th>\n",
       "      <th>support</th>\n",
       "      <th>confidence</th>\n",
       "      <th>lift</th>\n",
       "    </tr>\n",
       "  </thead>\n",
       "  <tbody>\n",
       "    <tr>\n",
       "      <th>0</th>\n",
       "      <td>(K)</td>\n",
       "      <td>(E)</td>\n",
       "      <td>1.0</td>\n",
       "      <td>0.8</td>\n",
       "      <td>0.8</td>\n",
       "      <td>0.8</td>\n",
       "      <td>1.00</td>\n",
       "    </tr>\n",
       "    <tr>\n",
       "      <th>2</th>\n",
       "      <td>(O)</td>\n",
       "      <td>(E)</td>\n",
       "      <td>0.6</td>\n",
       "      <td>0.8</td>\n",
       "      <td>0.6</td>\n",
       "      <td>1.0</td>\n",
       "      <td>1.25</td>\n",
       "    </tr>\n",
       "    <tr>\n",
       "      <th>6</th>\n",
       "      <td>(K, O)</td>\n",
       "      <td>(E)</td>\n",
       "      <td>0.6</td>\n",
       "      <td>0.8</td>\n",
       "      <td>0.6</td>\n",
       "      <td>1.0</td>\n",
       "      <td>1.25</td>\n",
       "    </tr>\n",
       "    <tr>\n",
       "      <th>8</th>\n",
       "      <td>(O)</td>\n",
       "      <td>(K, E)</td>\n",
       "      <td>0.6</td>\n",
       "      <td>0.8</td>\n",
       "      <td>0.6</td>\n",
       "      <td>1.0</td>\n",
       "      <td>1.25</td>\n",
       "    </tr>\n",
       "  </tbody>\n",
       "</table>\n",
       "</div>"
      ],
      "text/plain": [
       "  antecedents consequents  antecedent support  consequent support  support   \n",
       "0         (K)         (E)                 1.0                 0.8      0.8  \\\n",
       "2         (O)         (E)                 0.6                 0.8      0.6   \n",
       "6      (K, O)         (E)                 0.6                 0.8      0.6   \n",
       "8         (O)      (K, E)                 0.6                 0.8      0.6   \n",
       "\n",
       "   confidence  lift  \n",
       "0         0.8  1.00  \n",
       "2         1.0  1.25  \n",
       "6         1.0  1.25  \n",
       "8         1.0  1.25  "
      ]
     },
     "metadata": {},
     "output_type": "display_data"
    },
    {
     "name": "stdout",
     "output_type": "stream",
     "text": [
      "4 matching values!\n"
     ]
    }
   ],
   "source": [
    "\n",
    "from itertools import combinations\n",
    "\n",
    "allowed_characters = ['A', 'C', 'D', 'E', 'I', 'K', 'M', 'N', 'O', 'U', 'Y']\n",
    "\n",
    "def get_valid_item_list():\n",
    "    item_list = []\n",
    "    while True:\n",
    "        item = input(\"Enter an item (or 'q' to quit): \")\n",
    "        if item.lower() == 'q':\n",
    "            break\n",
    "        elif item in allowed_characters:\n",
    "            item_list.append(item)\n",
    "        else:\n",
    "            print(\"Invalid item. Please enter a valid character from the list.\")\n",
    "    return item_list\n",
    "\n",
    "def get_subsets(lst):\n",
    "    subsets = []\n",
    "    for r in range(1, len(lst) + 1):\n",
    "        subsets.extend([frozenset(comb) for comb in combinations(lst, r)])\n",
    "    return subsets\n",
    "\n",
    "# Customer X will get list items \n",
    "items = get_valid_item_list()\n",
    "print(\"Items:\", items)\n",
    "\n",
    "#get subset of \n",
    "items_subset = get_subsets(items)\n",
    "display(items_subset)\n",
    "\n",
    "#fiter association rule for getting recommended items\n",
    "recommended = association_rules_df[association_rules_df['antecedents'].apply(lambda x: x in items_subset)&\n",
    "                                   association_rules_df['consequents'].apply(lambda x: x not in items_subset)]\n",
    "\n",
    "display(recommended.drop([\"leverage\",\"conviction\",\"zhangs_metric\"], axis = 1))\n",
    "print(f\"{recommended.count()[0]} matching values!\")\n"
   ]
  },
  {
   "attachments": {},
   "cell_type": "markdown",
   "metadata": {},
   "source": [
    "## 6.7 Compare Apriori Algorithm, FP-growth Algorithm, Eclat Algorithm:"
   ]
  },
  {
   "cell_type": "code",
   "execution_count": 10,
   "metadata": {},
   "outputs": [],
   "source": [
    "import time\n",
    "import numpy as np\n",
    "import pandas as pd\n",
    "import matplotlib.pyplot as plt\n",
    "from mlxtend.preprocessing import TransactionEncoder\n",
    "from mlxtend.frequent_patterns import apriori, association_rules, fpgrowth\n",
    "from pyECLAT import ECLAT"
   ]
  },
  {
   "attachments": {},
   "cell_type": "markdown",
   "metadata": {},
   "source": [
    "Utils functions"
   ]
  },
  {
   "cell_type": "code",
   "execution_count": 11,
   "metadata": {},
   "outputs": [],
   "source": [
    "def convert_to_dataframe(rule_items):\n",
    "    itemsets = []\n",
    "    support = []\n",
    "\n",
    "    for itemset, item_support in rule_items[0].items():\n",
    "        itemsets.append(itemset)\n",
    "        support.append(item_support)\n",
    "\n",
    "    df = pd.DataFrame({'itemsets': itemsets, 'support': support})\n",
    "    df['itemsets'] = df['itemsets'].apply(lambda x: frozenset(x))\n",
    "    \n",
    "    return df\n",
    "\n",
    "def perform_rule_calculation(transact_items_matrix, rule_type=\"fpgrowth\", min_support=0.001):\n",
    "    start_time = 0\n",
    "    total_execution = 0\n",
    "    \n",
    "    if(rule_type==\"apriori\"):\n",
    "        start_time = time.time()\n",
    "        rule_items = apriori(transact_items_matrix, \n",
    "                       min_support=min_support, \n",
    "                       use_colnames=True)\n",
    "        total_execution = time.time() - start_time\n",
    "        print(f\"Computed Apriori with min_support = {min_support}!\")\n",
    "        \n",
    "    if(rule_type==\"fpgrowth\"):\n",
    "        start_time = time.time()\n",
    "        rule_items = fpgrowth(transact_items_matrix, \n",
    "                       min_support=min_support, \n",
    "                       use_colnames=True)\n",
    "        total_execution = time.time() - start_time\n",
    "        print(f\"Computed Fp Growth with min_support = {min_support}!\")\n",
    "\n",
    "    if(rule_type==\"eclat\"):\n",
    "        start_time = time.time()\n",
    "        eclat_instance = ECLAT(data=transact_items_matrix,verbose=False)\n",
    "        rule_indices,rule_supports = eclat_instance.fit(min_support=min_support)\n",
    "        rule_items = pd.DataFrame(rule_supports.items(),columns=['itemsets', 'support'])\n",
    "        rule_items[\"itemsets\"] = rule_items[\"itemsets\"].apply(lambda x: frozenset(x.split(\"&\")))\n",
    "        total_execution = time.time() - start_time\n",
    "        print(f\"Computed Eclat with min_support = {min_support}!\")\n",
    "    \n",
    "    \n",
    "    rule_items['number_of_items'] = rule_items['itemsets'].apply(lambda x: len(x))\n",
    "    rule_items = rule_items.sort_values(by=['support'], ascending=False)\n",
    "\n",
    "    return rule_items, total_execution\n",
    "\n",
    "def compute_association_rule(rule_matrix, metric=\"lift\", min_thresh=1):\n",
    "\n",
    "    rules = association_rules(rule_matrix, \n",
    "                              metric=metric, \n",
    "                              min_threshold=min_thresh)\n",
    "    \n",
    "    return rules\n",
    "\n",
    "\n",
    "def compare_time_exec_bar_chart(algo1=list, algo2=list, algo3 = list):\n",
    "    \n",
    "    execution_times = [algo1[1], algo2[1], algo3[1]]\n",
    "    algo_names = (algo1[0], algo2[0], algo3[0])\n",
    "    y=np.arange(len(algo_names))\n",
    "    \n",
    "    plt.bar(y,execution_times,color=['orange', 'blue', 'red'])\n",
    "    plt.xticks(y,algo_names)\n",
    "    plt.xlabel('Algorithms')\n",
    "    plt.ylabel('Time')\n",
    "    plt.title(\"Execution Time (seconds) Comparison\")\n",
    "    plt.show()\n",
    "\n",
    "def compare_time_exec_line_chart(experiment_list, algo1=list, algo2=list, algo3 = list ):\n",
    "    fig = plt.figure()\n",
    "    \n",
    "    line3, = plt.plot(experiment_list, algo1[1], marker='o', label=algo1[0])\n",
    "    line2, = plt.plot(experiment_list, algo2[1], marker='o', label=algo2[0])\n",
    "    line1, = plt.plot(experiment_list, algo3[1], marker='o', label=algo3[0])\n",
    "    plt.legend(handles=[line1, line2, line3])\n",
    "    for xy in zip(experiment_list,algo1[1]):\n",
    "        plt.annotate('(%s, %.5s)' % xy, xy=xy, textcoords='data')\n",
    "\n",
    "    for xy in zip(experiment_list,algo2[1]):\n",
    "        plt.annotate('(%s, %.5s)' % xy, xy=xy, textcoords='data')\n",
    "\n",
    "    for xy in zip(experiment_list,algo3[1]):\n",
    "        plt.annotate('(%s, %.5s)' % xy, xy=xy, textcoords='data')    \n",
    "    \n",
    "\n",
    "    plt.xlabel('minimum support')\n",
    "    plt.ylabel('execution time (seconds)')\n",
    "    plt.title(\"Execution Time (seconds) Comparison\")\n",
    "    plt.grid()\n",
    "    plt.show()"
   ]
  },
  {
   "attachments": {},
   "cell_type": "markdown",
   "metadata": {},
   "source": [
    "Code reference: https://www.kaggle.com/code/tunahandeniz/apriori-algorithm "
   ]
  },
  {
   "cell_type": "code",
   "execution_count": 12,
   "metadata": {},
   "outputs": [
    {
     "data": {
      "text/html": [
       "<div>\n",
       "<style scoped>\n",
       "    .dataframe tbody tr th:only-of-type {\n",
       "        vertical-align: middle;\n",
       "    }\n",
       "\n",
       "    .dataframe tbody tr th {\n",
       "        vertical-align: top;\n",
       "    }\n",
       "\n",
       "    .dataframe thead th {\n",
       "        text-align: right;\n",
       "    }\n",
       "</style>\n",
       "<table border=\"1\" class=\"dataframe\">\n",
       "  <thead>\n",
       "    <tr style=\"text-align: right;\">\n",
       "      <th></th>\n",
       "      <th>Item</th>\n",
       "    </tr>\n",
       "    <tr>\n",
       "      <th>Transaction</th>\n",
       "      <th></th>\n",
       "    </tr>\n",
       "  </thead>\n",
       "  <tbody>\n",
       "    <tr>\n",
       "      <th>1</th>\n",
       "      <td>[bread]</td>\n",
       "    </tr>\n",
       "    <tr>\n",
       "      <th>2</th>\n",
       "      <td>[scandinavian, scandinavian]</td>\n",
       "    </tr>\n",
       "    <tr>\n",
       "      <th>3</th>\n",
       "      <td>[hot chocolate, jam, cookies]</td>\n",
       "    </tr>\n",
       "    <tr>\n",
       "      <th>4</th>\n",
       "      <td>[muffin]</td>\n",
       "    </tr>\n",
       "    <tr>\n",
       "      <th>5</th>\n",
       "      <td>[coffee, pastry, bread]</td>\n",
       "    </tr>\n",
       "    <tr>\n",
       "      <th>...</th>\n",
       "      <td>...</td>\n",
       "    </tr>\n",
       "    <tr>\n",
       "      <th>9680</th>\n",
       "      <td>[bread]</td>\n",
       "    </tr>\n",
       "    <tr>\n",
       "      <th>9681</th>\n",
       "      <td>[truffles, tea, spanish brunch, christmas common]</td>\n",
       "    </tr>\n",
       "    <tr>\n",
       "      <th>9682</th>\n",
       "      <td>[muffin, tacos/fajita, coffee, tea]</td>\n",
       "    </tr>\n",
       "    <tr>\n",
       "      <th>9683</th>\n",
       "      <td>[coffee, pastry]</td>\n",
       "    </tr>\n",
       "    <tr>\n",
       "      <th>9684</th>\n",
       "      <td>[smoothies]</td>\n",
       "    </tr>\n",
       "  </tbody>\n",
       "</table>\n",
       "<p>9465 rows × 1 columns</p>\n",
       "</div>"
      ],
      "text/plain": [
       "                                                          Item\n",
       "Transaction                                                   \n",
       "1                                                      [bread]\n",
       "2                                 [scandinavian, scandinavian]\n",
       "3                                [hot chocolate, jam, cookies]\n",
       "4                                                     [muffin]\n",
       "5                                      [coffee, pastry, bread]\n",
       "...                                                        ...\n",
       "9680                                                   [bread]\n",
       "9681         [truffles, tea, spanish brunch, christmas common]\n",
       "9682                       [muffin, tacos/fajita, coffee, tea]\n",
       "9683                                          [coffee, pastry]\n",
       "9684                                               [smoothies]\n",
       "\n",
       "[9465 rows x 1 columns]"
      ]
     },
     "execution_count": 12,
     "metadata": {},
     "output_type": "execute_result"
    }
   ],
   "source": [
    "data = pd.read_csv(\"data/bread_basket.csv\")\n",
    "data['Item'] = data['Item'].str.strip()\n",
    "data['Item'] = data['Item'].str.lower()\n",
    "data = data.iloc[:, 0:2]\n",
    "# d['Item']=data['Item'].str.strip().str.lower() +  ','\n",
    "data = data.groupby('Transaction')['Item'].agg(list).reset_index().set_index('Transaction')\n",
    "data"
   ]
  },
  {
   "cell_type": "code",
   "execution_count": 13,
   "metadata": {},
   "outputs": [],
   "source": [
    "\n",
    "# Convert the list of transactions to a pandas DataFrame\n",
    "te = TransactionEncoder()\n",
    "te_ary = te.fit_transform(data['Item'])\n",
    "data_encoded = pd.DataFrame(te_ary, columns=te.columns_)\n",
    "data_encoded_display = data_encoded.replace(False,0)\n",
    "data_encoded_display = data_encoded_display.replace(True,1)"
   ]
  },
  {
   "cell_type": "code",
   "execution_count": 14,
   "metadata": {},
   "outputs": [
    {
     "data": {
      "text/plain": [
       "coffee            4528\n",
       "bread             3097\n",
       "tea               1350\n",
       "cake               983\n",
       "pastry             815\n",
       "                  ... \n",
       "chicken sand         1\n",
       "gift voucher         1\n",
       "olum & polenta       1\n",
       "raw bars             1\n",
       "adjustment           1\n",
       "Length: 94, dtype: int64"
      ]
     },
     "execution_count": 14,
     "metadata": {},
     "output_type": "execute_result"
    }
   ],
   "source": [
    "data_encoded_display.eq(1).sum().sort_values(ascending = False)"
   ]
  },
  {
   "cell_type": "code",
   "execution_count": 15,
   "metadata": {},
   "outputs": [],
   "source": [
    "def iterate_different_min_sup(data,algo_name):\n",
    "    result_list = list()\n",
    "    exec_time_list = list()\n",
    "    for min_sup in (0.005, 0.01, 0.05, 0.1):\n",
    "        result, exec_time = perform_rule_calculation(data, rule_type=algo_name,min_support= min_sup)\n",
    "        result_list.append(result)\n",
    "        exec_time_list.append(exec_time)\n",
    "\n",
    "    return result_list, exec_time_list"
   ]
  },
  {
   "attachments": {},
   "cell_type": "markdown",
   "metadata": {},
   "source": [
    "FP Growth"
   ]
  },
  {
   "cell_type": "code",
   "execution_count": 16,
   "metadata": {},
   "outputs": [
    {
     "name": "stdout",
     "output_type": "stream",
     "text": [
      "Computed Fp Growth with min_support = 0.005!\n",
      "Computed Fp Growth with min_support = 0.01!\n",
      "Computed Fp Growth with min_support = 0.05!\n",
      "Computed Fp Growth with min_support = 0.1!\n"
     ]
    },
    {
     "data": {
      "text/plain": [
       "[0.06529903411865234,\n",
       " 0.06490564346313477,\n",
       " 0.03811168670654297,\n",
       " 0.04245328903198242]"
      ]
     },
     "metadata": {},
     "output_type": "display_data"
    }
   ],
   "source": [
    "fp_growth_result, fp_growth_exec_time = iterate_different_min_sup(data_encoded,\"fpgrowth\")\n",
    "display(fp_growth_exec_time)"
   ]
  },
  {
   "attachments": {},
   "cell_type": "markdown",
   "metadata": {},
   "source": [
    "Apriori Algorithm"
   ]
  },
  {
   "cell_type": "code",
   "execution_count": 17,
   "metadata": {},
   "outputs": [
    {
     "name": "stdout",
     "output_type": "stream",
     "text": [
      "Computed Apriori with min_support = 0.005!\n",
      "Computed Apriori with min_support = 0.01!\n",
      "Computed Apriori with min_support = 0.05!\n",
      "Computed Apriori with min_support = 0.1!\n"
     ]
    },
    {
     "data": {
      "text/plain": [
       "[0.06529903411865234,\n",
       " 0.06490564346313477,\n",
       " 0.03811168670654297,\n",
       " 0.04245328903198242]"
      ]
     },
     "metadata": {},
     "output_type": "display_data"
    }
   ],
   "source": [
    "apriori_matrix, apriori_exec_time = iterate_different_min_sup(data_encoded,\"apriori\")\n",
    "display(fp_growth_exec_time)"
   ]
  },
  {
   "attachments": {},
   "cell_type": "markdown",
   "metadata": {},
   "source": [
    "ECLAT Algorithm"
   ]
  },
  {
   "cell_type": "code",
   "execution_count": 18,
   "metadata": {},
   "outputs": [
    {
     "data": {
      "text/html": [
       "<div>\n",
       "<style scoped>\n",
       "    .dataframe tbody tr th:only-of-type {\n",
       "        vertical-align: middle;\n",
       "    }\n",
       "\n",
       "    .dataframe tbody tr th {\n",
       "        vertical-align: top;\n",
       "    }\n",
       "\n",
       "    .dataframe thead th {\n",
       "        text-align: right;\n",
       "    }\n",
       "</style>\n",
       "<table border=\"1\" class=\"dataframe\">\n",
       "  <thead>\n",
       "    <tr style=\"text-align: right;\">\n",
       "      <th></th>\n",
       "      <th>0</th>\n",
       "      <th>1</th>\n",
       "      <th>2</th>\n",
       "      <th>3</th>\n",
       "      <th>4</th>\n",
       "      <th>5</th>\n",
       "      <th>6</th>\n",
       "      <th>7</th>\n",
       "      <th>8</th>\n",
       "      <th>9</th>\n",
       "      <th>10</th>\n",
       "    </tr>\n",
       "  </thead>\n",
       "  <tbody>\n",
       "    <tr>\n",
       "      <th>0</th>\n",
       "      <td>bread</td>\n",
       "      <td>None</td>\n",
       "      <td>None</td>\n",
       "      <td>None</td>\n",
       "      <td>None</td>\n",
       "      <td>None</td>\n",
       "      <td>None</td>\n",
       "      <td>None</td>\n",
       "      <td>None</td>\n",
       "      <td>None</td>\n",
       "      <td>None</td>\n",
       "    </tr>\n",
       "    <tr>\n",
       "      <th>1</th>\n",
       "      <td>scandinavian</td>\n",
       "      <td>scandinavian</td>\n",
       "      <td>None</td>\n",
       "      <td>None</td>\n",
       "      <td>None</td>\n",
       "      <td>None</td>\n",
       "      <td>None</td>\n",
       "      <td>None</td>\n",
       "      <td>None</td>\n",
       "      <td>None</td>\n",
       "      <td>None</td>\n",
       "    </tr>\n",
       "    <tr>\n",
       "      <th>2</th>\n",
       "      <td>hot chocolate</td>\n",
       "      <td>jam</td>\n",
       "      <td>cookies</td>\n",
       "      <td>None</td>\n",
       "      <td>None</td>\n",
       "      <td>None</td>\n",
       "      <td>None</td>\n",
       "      <td>None</td>\n",
       "      <td>None</td>\n",
       "      <td>None</td>\n",
       "      <td>None</td>\n",
       "    </tr>\n",
       "    <tr>\n",
       "      <th>3</th>\n",
       "      <td>muffin</td>\n",
       "      <td>None</td>\n",
       "      <td>None</td>\n",
       "      <td>None</td>\n",
       "      <td>None</td>\n",
       "      <td>None</td>\n",
       "      <td>None</td>\n",
       "      <td>None</td>\n",
       "      <td>None</td>\n",
       "      <td>None</td>\n",
       "      <td>None</td>\n",
       "    </tr>\n",
       "    <tr>\n",
       "      <th>4</th>\n",
       "      <td>coffee</td>\n",
       "      <td>pastry</td>\n",
       "      <td>bread</td>\n",
       "      <td>None</td>\n",
       "      <td>None</td>\n",
       "      <td>None</td>\n",
       "      <td>None</td>\n",
       "      <td>None</td>\n",
       "      <td>None</td>\n",
       "      <td>None</td>\n",
       "      <td>None</td>\n",
       "    </tr>\n",
       "    <tr>\n",
       "      <th>...</th>\n",
       "      <td>...</td>\n",
       "      <td>...</td>\n",
       "      <td>...</td>\n",
       "      <td>...</td>\n",
       "      <td>...</td>\n",
       "      <td>...</td>\n",
       "      <td>...</td>\n",
       "      <td>...</td>\n",
       "      <td>...</td>\n",
       "      <td>...</td>\n",
       "      <td>...</td>\n",
       "    </tr>\n",
       "    <tr>\n",
       "      <th>9460</th>\n",
       "      <td>bread</td>\n",
       "      <td>None</td>\n",
       "      <td>None</td>\n",
       "      <td>None</td>\n",
       "      <td>None</td>\n",
       "      <td>None</td>\n",
       "      <td>None</td>\n",
       "      <td>None</td>\n",
       "      <td>None</td>\n",
       "      <td>None</td>\n",
       "      <td>None</td>\n",
       "    </tr>\n",
       "    <tr>\n",
       "      <th>9461</th>\n",
       "      <td>truffles</td>\n",
       "      <td>tea</td>\n",
       "      <td>spanish brunch</td>\n",
       "      <td>christmas common</td>\n",
       "      <td>None</td>\n",
       "      <td>None</td>\n",
       "      <td>None</td>\n",
       "      <td>None</td>\n",
       "      <td>None</td>\n",
       "      <td>None</td>\n",
       "      <td>None</td>\n",
       "    </tr>\n",
       "    <tr>\n",
       "      <th>9462</th>\n",
       "      <td>muffin</td>\n",
       "      <td>tacos/fajita</td>\n",
       "      <td>coffee</td>\n",
       "      <td>tea</td>\n",
       "      <td>None</td>\n",
       "      <td>None</td>\n",
       "      <td>None</td>\n",
       "      <td>None</td>\n",
       "      <td>None</td>\n",
       "      <td>None</td>\n",
       "      <td>None</td>\n",
       "    </tr>\n",
       "    <tr>\n",
       "      <th>9463</th>\n",
       "      <td>coffee</td>\n",
       "      <td>pastry</td>\n",
       "      <td>None</td>\n",
       "      <td>None</td>\n",
       "      <td>None</td>\n",
       "      <td>None</td>\n",
       "      <td>None</td>\n",
       "      <td>None</td>\n",
       "      <td>None</td>\n",
       "      <td>None</td>\n",
       "      <td>None</td>\n",
       "    </tr>\n",
       "    <tr>\n",
       "      <th>9464</th>\n",
       "      <td>smoothies</td>\n",
       "      <td>None</td>\n",
       "      <td>None</td>\n",
       "      <td>None</td>\n",
       "      <td>None</td>\n",
       "      <td>None</td>\n",
       "      <td>None</td>\n",
       "      <td>None</td>\n",
       "      <td>None</td>\n",
       "      <td>None</td>\n",
       "      <td>None</td>\n",
       "    </tr>\n",
       "  </tbody>\n",
       "</table>\n",
       "<p>9465 rows × 11 columns</p>\n",
       "</div>"
      ],
      "text/plain": [
       "                 0             1               2                 3     4    \n",
       "0             bread          None            None              None  None  \\\n",
       "1      scandinavian  scandinavian            None              None  None   \n",
       "2     hot chocolate           jam         cookies              None  None   \n",
       "3            muffin          None            None              None  None   \n",
       "4            coffee        pastry           bread              None  None   \n",
       "...             ...           ...             ...               ...   ...   \n",
       "9460          bread          None            None              None  None   \n",
       "9461       truffles           tea  spanish brunch  christmas common  None   \n",
       "9462         muffin  tacos/fajita          coffee               tea  None   \n",
       "9463         coffee        pastry            None              None  None   \n",
       "9464      smoothies          None            None              None  None   \n",
       "\n",
       "        5     6     7     8     9     10  \n",
       "0     None  None  None  None  None  None  \n",
       "1     None  None  None  None  None  None  \n",
       "2     None  None  None  None  None  None  \n",
       "3     None  None  None  None  None  None  \n",
       "4     None  None  None  None  None  None  \n",
       "...    ...   ...   ...   ...   ...   ...  \n",
       "9460  None  None  None  None  None  None  \n",
       "9461  None  None  None  None  None  None  \n",
       "9462  None  None  None  None  None  None  \n",
       "9463  None  None  None  None  None  None  \n",
       "9464  None  None  None  None  None  None  \n",
       "\n",
       "[9465 rows x 11 columns]"
      ]
     },
     "execution_count": 18,
     "metadata": {},
     "output_type": "execute_result"
    }
   ],
   "source": [
    "list_transaction =  data['Item'].tolist()\n",
    "df_encoded_eclat = pd.DataFrame(list_transaction)\n",
    "df_encoded_eclat"
   ]
  },
  {
   "cell_type": "code",
   "execution_count": 19,
   "metadata": {},
   "outputs": [],
   "source": [
    "# eclat_instance = ECLAT(data=df_encoded_eclat,verbose=True)\n",
    "# rule_items = eclat_instance.fit(min_support=0.001)\n",
    "# rule_indices, rule_supports = rule_items\n",
    "# result = pd.DataFrame(rule_supports.items(),columns=['Item', 'Support'])\n",
    "# new_result = result\n",
    "# new_result[\"Item\"]= result[\"Item\"].apply(lambda x: frozenset(x.split(\"&\")))\n",
    "# new_result"
   ]
  },
  {
   "cell_type": "code",
   "execution_count": 20,
   "metadata": {},
   "outputs": [
    {
     "name": "stdout",
     "output_type": "stream",
     "text": [
      "Combination 1 by 1\n"
     ]
    },
    {
     "name": "stderr",
     "output_type": "stream",
     "text": [
      "37it [00:00, 141.19it/s]\n"
     ]
    },
    {
     "name": "stdout",
     "output_type": "stream",
     "text": [
      "Combination 2 by 2\n"
     ]
    },
    {
     "name": "stderr",
     "output_type": "stream",
     "text": [
      "666it [00:02, 232.89it/s]\n"
     ]
    },
    {
     "name": "stdout",
     "output_type": "stream",
     "text": [
      "Combination 3 by 3\n"
     ]
    },
    {
     "name": "stderr",
     "output_type": "stream",
     "text": [
      "7770it [00:31, 245.98it/s]\n"
     ]
    },
    {
     "name": "stdout",
     "output_type": "stream",
     "text": [
      "Computed Eclat with min_support = 0.005!\n",
      "Combination 1 by 1\n"
     ]
    },
    {
     "name": "stderr",
     "output_type": "stream",
     "text": [
      "30it [00:00, 136.59it/s]\n"
     ]
    },
    {
     "name": "stdout",
     "output_type": "stream",
     "text": [
      "Combination 2 by 2\n"
     ]
    },
    {
     "name": "stderr",
     "output_type": "stream",
     "text": [
      "435it [00:01, 264.35it/s]\n"
     ]
    },
    {
     "name": "stdout",
     "output_type": "stream",
     "text": [
      "Combination 3 by 3\n"
     ]
    },
    {
     "name": "stderr",
     "output_type": "stream",
     "text": [
      "4060it [00:15, 267.28it/s]\n"
     ]
    },
    {
     "name": "stdout",
     "output_type": "stream",
     "text": [
      "Computed Eclat with min_support = 0.01!\n",
      "Combination 1 by 1\n"
     ]
    },
    {
     "name": "stderr",
     "output_type": "stream",
     "text": [
      "9it [00:00, 122.09it/s]\n"
     ]
    },
    {
     "name": "stdout",
     "output_type": "stream",
     "text": [
      "Combination 2 by 2\n"
     ]
    },
    {
     "name": "stderr",
     "output_type": "stream",
     "text": [
      "36it [00:00, 272.78it/s]\n"
     ]
    },
    {
     "name": "stdout",
     "output_type": "stream",
     "text": [
      "Combination 3 by 3\n"
     ]
    },
    {
     "name": "stderr",
     "output_type": "stream",
     "text": [
      "84it [00:00, 274.32it/s]\n"
     ]
    },
    {
     "name": "stdout",
     "output_type": "stream",
     "text": [
      "Computed Eclat with min_support = 0.05!\n",
      "Combination 1 by 1\n"
     ]
    },
    {
     "name": "stderr",
     "output_type": "stream",
     "text": [
      "4it [00:00, 126.49it/s]\n"
     ]
    },
    {
     "name": "stdout",
     "output_type": "stream",
     "text": [
      "Combination 2 by 2\n"
     ]
    },
    {
     "name": "stderr",
     "output_type": "stream",
     "text": [
      "6it [00:00, 218.64it/s]\n"
     ]
    },
    {
     "name": "stdout",
     "output_type": "stream",
     "text": [
      "Combination 3 by 3\n"
     ]
    },
    {
     "name": "stderr",
     "output_type": "stream",
     "text": [
      "4it [00:00, 229.20it/s]"
     ]
    },
    {
     "name": "stdout",
     "output_type": "stream",
     "text": [
      "Computed Eclat with min_support = 0.1!\n"
     ]
    },
    {
     "name": "stderr",
     "output_type": "stream",
     "text": [
      "\n"
     ]
    }
   ],
   "source": [
    "eclat_matrix, eclat_exec_time = iterate_different_min_sup(df_encoded_eclat, algo_name=\"eclat\")"
   ]
  },
  {
   "cell_type": "code",
   "execution_count": 21,
   "metadata": {},
   "outputs": [
    {
     "data": {
      "text/plain": [
       "[35.458507776260376, 17.718279123306274, 1.1578104496002197, 0.721837043762207]"
      ]
     },
     "execution_count": 21,
     "metadata": {},
     "output_type": "execute_result"
    }
   ],
   "source": [
    "eclat_exec_time"
   ]
  },
  {
   "attachments": {},
   "cell_type": "markdown",
   "metadata": {},
   "source": [
    "https://rasbt.github.io/mlxtend/user_guide/frequent_patterns/association_rules/ "
   ]
  },
  {
   "cell_type": "code",
   "execution_count": 22,
   "metadata": {},
   "outputs": [],
   "source": [
    "algo1 = ['Fp Growth', fp_growth_exec_time]\n",
    "algo2 = ['Apriori', apriori_exec_time]\n",
    "algo3 = ['Eclat',eclat_exec_time]"
   ]
  },
  {
   "cell_type": "code",
   "execution_count": 23,
   "metadata": {},
   "outputs": [
    {
     "data": {
      "image/png": "[encoded data removed]",
      "text/plain": [
       "<Figure size 640x480 with 1 Axes>"
      ]
     },
     "metadata": {},
     "output_type": "display_data"
    }
   ],
   "source": [
    "experiment_list=( 0.005, 0.01, 0.05, 0.1)\n",
    "compare_time_exec_line_chart(experiment_list,algo1, algo2 , algo3)"
   ]
  },
  {
   "cell_type": "code",
   "execution_count": 24,
   "metadata": {},
   "outputs": [
    {
     "data": {
      "image/png": "[encoded data removed]",
      "text/plain": [
       "<Figure size 640x480 with 1 Axes>"
      ]
     },
     "metadata": {},
     "output_type": "display_data"
    }
   ],
   "source": [
    "fig = plt.figure()\n",
    "\n",
    "line2, = plt.plot(experiment_list, algo2[1], marker='o', label=algo2[0])\n",
    "line1, = plt.plot(experiment_list, algo1[1], marker='o', label=algo1[0])\n",
    "plt.legend(handles=[line1, line2])\n",
    "for xy in zip(experiment_list,algo1[1]):\n",
    "    plt.annotate('(%s, %.5s)' % xy, xy=xy, textcoords='data')\n",
    "\n",
    "for xy in zip(experiment_list,algo2[1]):\n",
    "    plt.annotate('(%s, %.5s)' % xy, xy=xy, textcoords='data')\n",
    "\n",
    "plt.xlabel('minimum support')\n",
    "plt.ylabel('execution time (seconds)')\n",
    "plt.title(\"Execution Time (seconds) Comparison\")\n",
    "plt.grid()\n",
    "plt.show()"
   ]
  },
  {
   "attachments": {},
   "cell_type": "markdown",
   "metadata": {},
   "source": [
    "## 6.8 "
   ]
  },
  {
   "cell_type": "code",
   "execution_count": 25,
   "metadata": {},
   "outputs": [],
   "source": [
    "from mlxtend.preprocessing import TransactionEncoder\n",
    "from mlxtend.frequent_patterns import apriori, association_rules\n",
    "\n",
    "min_sup = 0.6\n",
    "min_conf = 0.8\n"
   ]
  },
  {
   "cell_type": "code",
   "execution_count": 26,
   "metadata": {},
   "outputs": [
    {
     "data": {
      "text/html": [
       "<div>\n",
       "<style scoped>\n",
       "    .dataframe tbody tr th:only-of-type {\n",
       "        vertical-align: middle;\n",
       "    }\n",
       "\n",
       "    .dataframe tbody tr th {\n",
       "        vertical-align: top;\n",
       "    }\n",
       "\n",
       "    .dataframe thead th {\n",
       "        text-align: right;\n",
       "    }\n",
       "</style>\n",
       "<table border=\"1\" class=\"dataframe\">\n",
       "  <thead>\n",
       "    <tr style=\"text-align: right;\">\n",
       "      <th></th>\n",
       "      <th>Item</th>\n",
       "      <th>Brand</th>\n",
       "      <th>Category</th>\n",
       "    </tr>\n",
       "  </thead>\n",
       "  <tbody>\n",
       "    <tr>\n",
       "      <th>0</th>\n",
       "      <td>[King’s-Crab, Sunset-Milk, Dairyland-Cheese, B...</td>\n",
       "      <td>[King’s, Sunset, Dairyland, Best]</td>\n",
       "      <td>[Crab, Milk, Cheese, Bread]</td>\n",
       "    </tr>\n",
       "    <tr>\n",
       "      <th>1</th>\n",
       "      <td>[Best-Cheese, Dairyland-Milk, Goldenfarm-Apple...</td>\n",
       "      <td>[Best, Dairyland, Goldenfarm, Tasty, Wonder]</td>\n",
       "      <td>[Cheese, Milk, Apple, Pie, Bread]</td>\n",
       "    </tr>\n",
       "    <tr>\n",
       "      <th>2</th>\n",
       "      <td>[Westcoast-Apple, Dairyland-Milk, Wonder-Bread...</td>\n",
       "      <td>[Westcoast, Dairyland, Wonder, Tasty]</td>\n",
       "      <td>[Apple, Milk, Bread, Pie]</td>\n",
       "    </tr>\n",
       "    <tr>\n",
       "      <th>3</th>\n",
       "      <td>[Wonder-Bread, Sunset-Milk, Dairyland-Cheese]</td>\n",
       "      <td>[Wonder, Sunset, Dairyland]</td>\n",
       "      <td>[Bread, Milk, Cheese]</td>\n",
       "    </tr>\n",
       "  </tbody>\n",
       "</table>\n",
       "</div>"
      ],
      "text/plain": [
       "                                                Item   \n",
       "0  [King’s-Crab, Sunset-Milk, Dairyland-Cheese, B...  \\\n",
       "1  [Best-Cheese, Dairyland-Milk, Goldenfarm-Apple...   \n",
       "2  [Westcoast-Apple, Dairyland-Milk, Wonder-Bread...   \n",
       "3      [Wonder-Bread, Sunset-Milk, Dairyland-Cheese]   \n",
       "\n",
       "                                          Brand   \n",
       "0             [King’s, Sunset, Dairyland, Best]  \\\n",
       "1  [Best, Dairyland, Goldenfarm, Tasty, Wonder]   \n",
       "2         [Westcoast, Dairyland, Wonder, Tasty]   \n",
       "3                   [Wonder, Sunset, Dairyland]   \n",
       "\n",
       "                            Category  \n",
       "0        [Crab, Milk, Cheese, Bread]  \n",
       "1  [Cheese, Milk, Apple, Pie, Bread]  \n",
       "2          [Apple, Milk, Bread, Pie]  \n",
       "3              [Bread, Milk, Cheese]  "
      ]
     },
     "execution_count": 26,
     "metadata": {},
     "output_type": "execute_result"
    }
   ],
   "source": [
    "# Example transactions\n",
    "transactions = [\n",
    "    [\"King’s-Crab\", \"Sunset-Milk\", \"Dairyland-Cheese\", \"Best-Bread\"],\n",
    "    [\"Best-Cheese\", \"Dairyland-Milk\", \"Goldenfarm-Apple\", \"Tasty-Pie\", \"Wonder-Bread\"],\n",
    "    [\"Westcoast-Apple\", \"Dairyland-Milk\", \"Wonder-Bread\", \"Tasty-Pie\"],\n",
    "    [\"Wonder-Bread\", \"Sunset-Milk\", \"Dairyland-Cheese\"]\n",
    "]\n",
    "\n",
    "# Initialize empty lists for item, brand, and category\n",
    "\n",
    "items = []\n",
    "brands = []\n",
    "categories = []\n",
    "\n",
    "# Split each item into item, brand, and category\n",
    "for transaction in transactions:\n",
    "    temp_items = []\n",
    "    temp_brands = []\n",
    "    temp_categories = []\n",
    "    for item in transaction:\n",
    "        item_parts = item.split(\"-\")\n",
    "        temp_items.append(item)\n",
    "        temp_brands.append(item_parts[0])\n",
    "        temp_categories.append(item_parts[1])\n",
    "    items.append(temp_items)\n",
    "    brands.append(temp_brands)\n",
    "    categories.append(temp_categories)\n",
    "# Create a dataframe from the split items\n",
    "df2 = pd.DataFrame({'Item': items, 'Brand': brands, 'Category': categories})\n",
    "\n",
    "# Print the dataframe\n",
    "df2"
   ]
  },
  {
   "attachments": {},
   "cell_type": "markdown",
   "metadata": {},
   "source": [
    "a . list the frequent k-itemset for largest k and association rules df follow by Category "
   ]
  },
  {
   "cell_type": "code",
   "execution_count": 27,
   "metadata": {},
   "outputs": [
    {
     "data": {
      "text/html": [
       "<div>\n",
       "<style scoped>\n",
       "    .dataframe tbody tr th:only-of-type {\n",
       "        vertical-align: middle;\n",
       "    }\n",
       "\n",
       "    .dataframe tbody tr th {\n",
       "        vertical-align: top;\n",
       "    }\n",
       "\n",
       "    .dataframe thead th {\n",
       "        text-align: right;\n",
       "    }\n",
       "</style>\n",
       "<table border=\"1\" class=\"dataframe\">\n",
       "  <thead>\n",
       "    <tr style=\"text-align: right;\">\n",
       "      <th></th>\n",
       "      <th>Apple</th>\n",
       "      <th>Bread</th>\n",
       "      <th>Cheese</th>\n",
       "      <th>Crab</th>\n",
       "      <th>Milk</th>\n",
       "      <th>Pie</th>\n",
       "    </tr>\n",
       "  </thead>\n",
       "  <tbody>\n",
       "    <tr>\n",
       "      <th>0</th>\n",
       "      <td>False</td>\n",
       "      <td>True</td>\n",
       "      <td>True</td>\n",
       "      <td>True</td>\n",
       "      <td>True</td>\n",
       "      <td>False</td>\n",
       "    </tr>\n",
       "    <tr>\n",
       "      <th>1</th>\n",
       "      <td>True</td>\n",
       "      <td>True</td>\n",
       "      <td>True</td>\n",
       "      <td>False</td>\n",
       "      <td>True</td>\n",
       "      <td>True</td>\n",
       "    </tr>\n",
       "    <tr>\n",
       "      <th>2</th>\n",
       "      <td>True</td>\n",
       "      <td>True</td>\n",
       "      <td>False</td>\n",
       "      <td>False</td>\n",
       "      <td>True</td>\n",
       "      <td>True</td>\n",
       "    </tr>\n",
       "    <tr>\n",
       "      <th>3</th>\n",
       "      <td>False</td>\n",
       "      <td>True</td>\n",
       "      <td>True</td>\n",
       "      <td>False</td>\n",
       "      <td>True</td>\n",
       "      <td>False</td>\n",
       "    </tr>\n",
       "  </tbody>\n",
       "</table>\n",
       "</div>"
      ],
      "text/plain": [
       "   Apple  Bread  Cheese   Crab  Milk    Pie\n",
       "0  False   True    True   True  True  False\n",
       "1   True   True    True  False  True   True\n",
       "2   True   True   False  False  True   True\n",
       "3  False   True    True  False  True  False"
      ]
     },
     "metadata": {},
     "output_type": "display_data"
    },
    {
     "name": "stdout",
     "output_type": "stream",
     "text": [
      "the largest frequent k-itemsets:\n"
     ]
    },
    {
     "data": {
      "text/html": [
       "<div>\n",
       "<style scoped>\n",
       "    .dataframe tbody tr th:only-of-type {\n",
       "        vertical-align: middle;\n",
       "    }\n",
       "\n",
       "    .dataframe tbody tr th {\n",
       "        vertical-align: top;\n",
       "    }\n",
       "\n",
       "    .dataframe thead th {\n",
       "        text-align: right;\n",
       "    }\n",
       "</style>\n",
       "<table border=\"1\" class=\"dataframe\">\n",
       "  <thead>\n",
       "    <tr style=\"text-align: right;\">\n",
       "      <th></th>\n",
       "      <th>support</th>\n",
       "      <th>itemsets</th>\n",
       "      <th>number_of_items</th>\n",
       "    </tr>\n",
       "  </thead>\n",
       "  <tbody>\n",
       "    <tr>\n",
       "      <th>0</th>\n",
       "      <td>0.75</td>\n",
       "      <td>(Cheese, Milk, Bread)</td>\n",
       "      <td>3</td>\n",
       "    </tr>\n",
       "  </tbody>\n",
       "</table>\n",
       "</div>"
      ],
      "text/plain": [
       "   support               itemsets  number_of_items\n",
       "0     0.75  (Cheese, Milk, Bread)                3"
      ]
     },
     "metadata": {},
     "output_type": "display_data"
    },
    {
     "name": "stdout",
     "output_type": "stream",
     "text": [
      "Association Rules of the largest item in frequent itemsets :\n"
     ]
    },
    {
     "data": {
      "text/html": [
       "<div>\n",
       "<style scoped>\n",
       "    .dataframe tbody tr th:only-of-type {\n",
       "        vertical-align: middle;\n",
       "    }\n",
       "\n",
       "    .dataframe tbody tr th {\n",
       "        vertical-align: top;\n",
       "    }\n",
       "\n",
       "    .dataframe thead th {\n",
       "        text-align: right;\n",
       "    }\n",
       "</style>\n",
       "<table border=\"1\" class=\"dataframe\">\n",
       "  <thead>\n",
       "    <tr style=\"text-align: right;\">\n",
       "      <th></th>\n",
       "      <th>antecedents</th>\n",
       "      <th>consequents</th>\n",
       "      <th>antecedent support</th>\n",
       "      <th>consequent support</th>\n",
       "      <th>support</th>\n",
       "      <th>confidence</th>\n",
       "      <th>lift</th>\n",
       "      <th>leverage</th>\n",
       "      <th>conviction</th>\n",
       "      <th>zhangs_metric</th>\n",
       "    </tr>\n",
       "  </thead>\n",
       "  <tbody>\n",
       "    <tr>\n",
       "      <th>0</th>\n",
       "      <td>(Cheese)</td>\n",
       "      <td>(Bread)</td>\n",
       "      <td>0.75</td>\n",
       "      <td>1.0</td>\n",
       "      <td>0.75</td>\n",
       "      <td>1.0</td>\n",
       "      <td>1.0</td>\n",
       "      <td>0.0</td>\n",
       "      <td>inf</td>\n",
       "      <td>0.0</td>\n",
       "    </tr>\n",
       "    <tr>\n",
       "      <th>1</th>\n",
       "      <td>(Milk)</td>\n",
       "      <td>(Bread)</td>\n",
       "      <td>1.00</td>\n",
       "      <td>1.0</td>\n",
       "      <td>1.00</td>\n",
       "      <td>1.0</td>\n",
       "      <td>1.0</td>\n",
       "      <td>0.0</td>\n",
       "      <td>inf</td>\n",
       "      <td>0.0</td>\n",
       "    </tr>\n",
       "    <tr>\n",
       "      <th>2</th>\n",
       "      <td>(Bread)</td>\n",
       "      <td>(Milk)</td>\n",
       "      <td>1.00</td>\n",
       "      <td>1.0</td>\n",
       "      <td>1.00</td>\n",
       "      <td>1.0</td>\n",
       "      <td>1.0</td>\n",
       "      <td>0.0</td>\n",
       "      <td>inf</td>\n",
       "      <td>0.0</td>\n",
       "    </tr>\n",
       "    <tr>\n",
       "      <th>3</th>\n",
       "      <td>(Cheese)</td>\n",
       "      <td>(Milk)</td>\n",
       "      <td>0.75</td>\n",
       "      <td>1.0</td>\n",
       "      <td>0.75</td>\n",
       "      <td>1.0</td>\n",
       "      <td>1.0</td>\n",
       "      <td>0.0</td>\n",
       "      <td>inf</td>\n",
       "      <td>0.0</td>\n",
       "    </tr>\n",
       "    <tr>\n",
       "      <th>4</th>\n",
       "      <td>(Cheese, Milk)</td>\n",
       "      <td>(Bread)</td>\n",
       "      <td>0.75</td>\n",
       "      <td>1.0</td>\n",
       "      <td>0.75</td>\n",
       "      <td>1.0</td>\n",
       "      <td>1.0</td>\n",
       "      <td>0.0</td>\n",
       "      <td>inf</td>\n",
       "      <td>0.0</td>\n",
       "    </tr>\n",
       "    <tr>\n",
       "      <th>5</th>\n",
       "      <td>(Cheese, Bread)</td>\n",
       "      <td>(Milk)</td>\n",
       "      <td>0.75</td>\n",
       "      <td>1.0</td>\n",
       "      <td>0.75</td>\n",
       "      <td>1.0</td>\n",
       "      <td>1.0</td>\n",
       "      <td>0.0</td>\n",
       "      <td>inf</td>\n",
       "      <td>0.0</td>\n",
       "    </tr>\n",
       "    <tr>\n",
       "      <th>6</th>\n",
       "      <td>(Cheese)</td>\n",
       "      <td>(Milk, Bread)</td>\n",
       "      <td>0.75</td>\n",
       "      <td>1.0</td>\n",
       "      <td>0.75</td>\n",
       "      <td>1.0</td>\n",
       "      <td>1.0</td>\n",
       "      <td>0.0</td>\n",
       "      <td>inf</td>\n",
       "      <td>0.0</td>\n",
       "    </tr>\n",
       "  </tbody>\n",
       "</table>\n",
       "</div>"
      ],
      "text/plain": [
       "       antecedents    consequents  antecedent support  consequent support   \n",
       "0         (Cheese)        (Bread)                0.75                 1.0  \\\n",
       "1           (Milk)        (Bread)                1.00                 1.0   \n",
       "2          (Bread)         (Milk)                1.00                 1.0   \n",
       "3         (Cheese)         (Milk)                0.75                 1.0   \n",
       "4   (Cheese, Milk)        (Bread)                0.75                 1.0   \n",
       "5  (Cheese, Bread)         (Milk)                0.75                 1.0   \n",
       "6         (Cheese)  (Milk, Bread)                0.75                 1.0   \n",
       "\n",
       "   support  confidence  lift  leverage  conviction  zhangs_metric  \n",
       "0     0.75         1.0   1.0       0.0         inf            0.0  \n",
       "1     1.00         1.0   1.0       0.0         inf            0.0  \n",
       "2     1.00         1.0   1.0       0.0         inf            0.0  \n",
       "3     0.75         1.0   1.0       0.0         inf            0.0  \n",
       "4     0.75         1.0   1.0       0.0         inf            0.0  \n",
       "5     0.75         1.0   1.0       0.0         inf            0.0  \n",
       "6     0.75         1.0   1.0       0.0         inf            0.0  "
      ]
     },
     "metadata": {},
     "output_type": "display_data"
    }
   ],
   "source": [
    "# Convert transactions to a binary encoded matrix\n",
    "te = TransactionEncoder()\n",
    "te_ary = te.fit_transform(df2['Category'])\n",
    "category_encode = pd.DataFrame(te_ary, columns=te.columns_)\n",
    "display(category_encode)\n",
    "\n",
    "# Generate frequent itemsets\n",
    "frequent_itemsets = apriori(category_encode, min_support=min_sup, use_colnames=True)\n",
    "\n",
    "\n",
    "# Generate association rules\n",
    "association_rules_df = association_rules(frequent_itemsets, metric=\"confidence\", min_threshold=min_conf)\n",
    "\n",
    "# modified frequent partern display\n",
    "frequent_itemsets['number_of_items'] = frequent_itemsets['itemsets'].apply(lambda x: len(x))\n",
    "frequent_itemsets = frequent_itemsets.sort_values(by=['number_of_items'], ascending=False).reset_index(drop=True)\n",
    "\n",
    "# Print frequent k-itemsets\n",
    "print(\"the largest frequent k-itemsets:\")\n",
    "display(frequent_itemsets.loc[[0]])\n",
    "\n",
    "\n",
    "largest_k = frequent_itemsets[\"itemsets\"][0]\n",
    "\n",
    "#fiter all the strong association rules containing the frequent k-itemset for the largest k\n",
    "largest_k_filter = association_rules_df[association_rules_df['antecedents'].apply(lambda x: x in largest_k )&\n",
    "                                        association_rules_df['consequents'].apply(lambda x: x in largest_k)]\n",
    "# Print association rules\n",
    "print(\"Association Rules of the largest item in frequent itemsets :\")\n",
    "display(association_rules_df)"
   ]
  },
  {
   "attachments": {},
   "cell_type": "markdown",
   "metadata": {},
   "source": [
    "b . list the frequent k-itemset for largest k and association rules df follow by brand-item category "
   ]
  },
  {
   "cell_type": "code",
   "execution_count": 28,
   "metadata": {},
   "outputs": [
    {
     "data": {
      "text/html": [
       "<div>\n",
       "<style scoped>\n",
       "    .dataframe tbody tr th:only-of-type {\n",
       "        vertical-align: middle;\n",
       "    }\n",
       "\n",
       "    .dataframe tbody tr th {\n",
       "        vertical-align: top;\n",
       "    }\n",
       "\n",
       "    .dataframe thead th {\n",
       "        text-align: right;\n",
       "    }\n",
       "</style>\n",
       "<table border=\"1\" class=\"dataframe\">\n",
       "  <thead>\n",
       "    <tr style=\"text-align: right;\">\n",
       "      <th></th>\n",
       "      <th>Best-Bread</th>\n",
       "      <th>Best-Cheese</th>\n",
       "      <th>Dairyland-Cheese</th>\n",
       "      <th>Dairyland-Milk</th>\n",
       "      <th>Goldenfarm-Apple</th>\n",
       "      <th>King’s-Crab</th>\n",
       "      <th>Sunset-Milk</th>\n",
       "      <th>Tasty-Pie</th>\n",
       "      <th>Westcoast-Apple</th>\n",
       "      <th>Wonder-Bread</th>\n",
       "    </tr>\n",
       "  </thead>\n",
       "  <tbody>\n",
       "    <tr>\n",
       "      <th>0</th>\n",
       "      <td>True</td>\n",
       "      <td>False</td>\n",
       "      <td>True</td>\n",
       "      <td>False</td>\n",
       "      <td>False</td>\n",
       "      <td>True</td>\n",
       "      <td>True</td>\n",
       "      <td>False</td>\n",
       "      <td>False</td>\n",
       "      <td>False</td>\n",
       "    </tr>\n",
       "    <tr>\n",
       "      <th>1</th>\n",
       "      <td>False</td>\n",
       "      <td>True</td>\n",
       "      <td>False</td>\n",
       "      <td>True</td>\n",
       "      <td>True</td>\n",
       "      <td>False</td>\n",
       "      <td>False</td>\n",
       "      <td>True</td>\n",
       "      <td>False</td>\n",
       "      <td>True</td>\n",
       "    </tr>\n",
       "    <tr>\n",
       "      <th>2</th>\n",
       "      <td>False</td>\n",
       "      <td>False</td>\n",
       "      <td>False</td>\n",
       "      <td>True</td>\n",
       "      <td>False</td>\n",
       "      <td>False</td>\n",
       "      <td>False</td>\n",
       "      <td>True</td>\n",
       "      <td>True</td>\n",
       "      <td>True</td>\n",
       "    </tr>\n",
       "    <tr>\n",
       "      <th>3</th>\n",
       "      <td>False</td>\n",
       "      <td>False</td>\n",
       "      <td>True</td>\n",
       "      <td>False</td>\n",
       "      <td>False</td>\n",
       "      <td>False</td>\n",
       "      <td>True</td>\n",
       "      <td>False</td>\n",
       "      <td>False</td>\n",
       "      <td>True</td>\n",
       "    </tr>\n",
       "  </tbody>\n",
       "</table>\n",
       "</div>"
      ],
      "text/plain": [
       "   Best-Bread  Best-Cheese  Dairyland-Cheese  Dairyland-Milk   \n",
       "0        True        False              True           False  \\\n",
       "1       False         True             False            True   \n",
       "2       False        False             False            True   \n",
       "3       False        False              True           False   \n",
       "\n",
       "   Goldenfarm-Apple  King’s-Crab  Sunset-Milk  Tasty-Pie  Westcoast-Apple   \n",
       "0             False         True         True      False            False  \\\n",
       "1              True        False        False       True            False   \n",
       "2             False        False        False       True             True   \n",
       "3             False        False         True      False            False   \n",
       "\n",
       "   Wonder-Bread  \n",
       "0         False  \n",
       "1          True  \n",
       "2          True  \n",
       "3          True  "
      ]
     },
     "metadata": {},
     "output_type": "display_data"
    },
    {
     "name": "stdout",
     "output_type": "stream",
     "text": [
      "the largest frequent k-itemsets:\n"
     ]
    },
    {
     "data": {
      "text/html": [
       "<div>\n",
       "<style scoped>\n",
       "    .dataframe tbody tr th:only-of-type {\n",
       "        vertical-align: middle;\n",
       "    }\n",
       "\n",
       "    .dataframe tbody tr th {\n",
       "        vertical-align: top;\n",
       "    }\n",
       "\n",
       "    .dataframe thead th {\n",
       "        text-align: right;\n",
       "    }\n",
       "</style>\n",
       "<table border=\"1\" class=\"dataframe\">\n",
       "  <thead>\n",
       "    <tr style=\"text-align: right;\">\n",
       "      <th></th>\n",
       "      <th>support</th>\n",
       "      <th>itemsets</th>\n",
       "      <th>number_of_items</th>\n",
       "    </tr>\n",
       "  </thead>\n",
       "  <tbody>\n",
       "    <tr>\n",
       "      <th>0</th>\n",
       "      <td>0.75</td>\n",
       "      <td>(Wonder-Bread)</td>\n",
       "      <td>1</td>\n",
       "    </tr>\n",
       "  </tbody>\n",
       "</table>\n",
       "</div>"
      ],
      "text/plain": [
       "   support        itemsets  number_of_items\n",
       "0     0.75  (Wonder-Bread)                1"
      ]
     },
     "metadata": {},
     "output_type": "display_data"
    }
   ],
   "source": [
    "# Convert transactions to a binary encoded matrix\n",
    "te = TransactionEncoder()\n",
    "te_ary = te.fit_transform(df2['Item'])\n",
    "item_encode = pd.DataFrame(te_ary, columns=te.columns_)\n",
    "display(item_encode)\n",
    "\n",
    "# Generate frequent itemsets\n",
    "frequent_itemsets = apriori(item_encode, min_support=min_sup, use_colnames=True)\n",
    "\n",
    "\n",
    "# Generate association rules\n",
    "association_rules_df = association_rules(frequent_itemsets, metric=\"confidence\", min_threshold=min_conf)\n",
    "\n",
    "# modified frequent partern display\n",
    "frequent_itemsets['number_of_items'] = frequent_itemsets['itemsets'].apply(lambda x: len(x))\n",
    "frequent_itemsets = frequent_itemsets.sort_values(by=['number_of_items'], ascending=False).reset_index(drop=True)\n",
    "\n",
    "# Print frequent k-itemsets\n",
    "print(\"the largest frequent k-itemsets:\")\n",
    "display(frequent_itemsets.loc[[0]])\n"
   ]
  },
  {
   "attachments": {},
   "cell_type": "markdown",
   "metadata": {},
   "source": [
    "## 6.13 Give a short example to show that items in a strong association rule actually may be negatively correlated."
   ]
  },
  {
   "attachments": {},
   "cell_type": "markdown",
   "metadata": {},
   "source": [
    "Consider a dataset of customer transactions at a grocery store. Let's say we have two items: \"Ice cream\" and \"Weight loss supplements.\"\n",
    "\n",
    "Now, let's assume we discover a strong association rule with high support and confidence that states:\n",
    "\"If a customer buys Ice cream, they are likely to buy Weight loss supplements.\"\n",
    "\n",
    "At first glance, this rule may seem counterintuitive because Ice cream and Weight loss supplements appear to be unrelated or even contradictory items. However, upon further analysis, we might realize that this association rule is capturing a negative correlation.\n",
    "\n",
    "In this example, the negative correlation could be explained by the concept of compensatory behavior. It is possible that customers who indulge in buying Ice cream are more conscious of their health and weight, leading them to also purchase Weight loss supplements as a way to compensate for the indulgence.\n",
    "\n",
    "Thus, despite the apparent contradiction between the items, the association rule reveals a negative correlation or compensatory behavior between the purchase of Ice cream and Weight loss supplements.\n",
    "\n",
    "This example demonstrates that strong association rules can capture both positive and negative correlations between items, providing valuable insights into customer behavior and purchasing patterns."
   ]
  },
  {
   "attachments": {},
   "cell_type": "markdown",
   "metadata": {},
   "source": [
    "## 6.14\n",
    "<img src=\"image/6_14.png\" style=\"width:460px;height:340px;\">"
   ]
  },
  {
   "attachments": {},
   "cell_type": "markdown",
   "metadata": {},
   "source": [
    "### a) Suppose that the association rule “hot dogs ⇒ hamburgers” is mined. Given a minimum support threshold of 25% and a minimum confidence threshold of 50%, is this association rule strong?"
   ]
  },
  {
   "attachments": {},
   "cell_type": "markdown",
   "metadata": {},
   "source": [
    ">Support = (Transactions containing hot dogs and hamburgers) / Total transactions\n",
    ">Confidence = (Transactions containing hot dogs and hamburgers) / Transactions containing hot dogs\n",
    ">\n",
    ">min_sup = 0.25 or 25%\n",
    ">min_threshold = 0.5 or 50%\n",
    ">\n",
    ">1. Calculate the support and confidence for the given association rule:\n",
    ">> - Support = 2000 / 5000 = 0.4 or 40%\n",
    ">> - Confidence = 2000 / 3000 = 0.6667 or 66.67%\n",
    ">\n",
    ">2. Compare the support and confidence values to the minimum thresholds:\n",
    ">\n",
    ">> - The support of the association rule (40%) is higher than the minimum support threshold (25%), so it satisfies the support requirement.\n",
    ">\n",
    ">> - The confidence of the association rule (66.67%) is higher than the minimum confidence threshold (50%), so it satisfies the confidence requirement.\n",
    ">\n",
    ">Based on these calculations, we can conclude that the association rule \"hot dogs ⇒ hamburgers\" is strong according to the given minimum support and confidence thresholds."
   ]
  },
  {
   "attachments": {},
   "cell_type": "markdown",
   "metadata": {},
   "source": [
    "### b) Based on the given data, is the purchase of hot dogs independent of the purchase of hamburgers? If not, what kind of correlation relationship exists between the two?"
   ]
  },
  {
   "attachments": {},
   "cell_type": "markdown",
   "metadata": {},
   "source": [
    "- (H0) The purchase of hot dogs is independent of the purchase of hamburgers. \n",
    "- (H1) The purchase of hot dogs is greatly dependent on the purchase of hamburgers."
   ]
  },
  {
   "cell_type": "code",
   "execution_count": 45,
   "metadata": {},
   "outputs": [
    {
     "name": "stdout",
     "output_type": "stream",
     "text": [
      "Observation table\n"
     ]
    },
    {
     "data": {
      "text/html": [
       "<div>\n",
       "<style scoped>\n",
       "    .dataframe tbody tr th:only-of-type {\n",
       "        vertical-align: middle;\n",
       "    }\n",
       "\n",
       "    .dataframe tbody tr th {\n",
       "        vertical-align: top;\n",
       "    }\n",
       "\n",
       "    .dataframe thead th {\n",
       "        text-align: right;\n",
       "    }\n",
       "</style>\n",
       "<table border=\"1\" class=\"dataframe\">\n",
       "  <thead>\n",
       "    <tr style=\"text-align: right;\">\n",
       "      <th></th>\n",
       "      <th>0</th>\n",
       "      <th>1</th>\n",
       "    </tr>\n",
       "  </thead>\n",
       "  <tbody>\n",
       "    <tr>\n",
       "      <th>0</th>\n",
       "      <td>2000</td>\n",
       "      <td>500</td>\n",
       "    </tr>\n",
       "    <tr>\n",
       "      <th>1</th>\n",
       "      <td>1000</td>\n",
       "      <td>1500</td>\n",
       "    </tr>\n",
       "  </tbody>\n",
       "</table>\n",
       "</div>"
      ],
      "text/plain": [
       "      0     1\n",
       "0  2000   500\n",
       "1  1000  1500"
      ]
     },
     "metadata": {},
     "output_type": "display_data"
    },
    {
     "name": "stdout",
     "output_type": "stream",
     "text": [
      "Expected table when assuming the purchase of hot dogs and hamburgers is independent\n"
     ]
    },
    {
     "data": {
      "text/html": [
       "<div>\n",
       "<style scoped>\n",
       "    .dataframe tbody tr th:only-of-type {\n",
       "        vertical-align: middle;\n",
       "    }\n",
       "\n",
       "    .dataframe tbody tr th {\n",
       "        vertical-align: top;\n",
       "    }\n",
       "\n",
       "    .dataframe thead th {\n",
       "        text-align: right;\n",
       "    }\n",
       "</style>\n",
       "<table border=\"1\" class=\"dataframe\">\n",
       "  <thead>\n",
       "    <tr style=\"text-align: right;\">\n",
       "      <th></th>\n",
       "      <th>0</th>\n",
       "      <th>1</th>\n",
       "    </tr>\n",
       "  </thead>\n",
       "  <tbody>\n",
       "    <tr>\n",
       "      <th>0</th>\n",
       "      <td>1500.0</td>\n",
       "      <td>1000.0</td>\n",
       "    </tr>\n",
       "    <tr>\n",
       "      <th>1</th>\n",
       "      <td>1500.0</td>\n",
       "      <td>1000.0</td>\n",
       "    </tr>\n",
       "  </tbody>\n",
       "</table>\n",
       "</div>"
      ],
      "text/plain": [
       "        0       1\n",
       "0  1500.0  1000.0\n",
       "1  1500.0  1000.0"
      ]
     },
     "metadata": {},
     "output_type": "display_data"
    },
    {
     "name": "stdout",
     "output_type": "stream",
     "text": [
      "chi-square statistic =  831.6675\n",
      "p_value =  7.033015027797008e-183\n",
      "\n",
      "The purchase of hot dogs is greatly dependent on the purchase of hamburgers.\n",
      "There is a negative correlation between hot dogs and hamburgers.\n"
     ]
    }
   ],
   "source": [
    "import scipy.stats as stats\n",
    "\n",
    "# Observed counts\n",
    "observed = [[2000, 500], [1000, 1500]]\n",
    "\n",
    "# Calculate expected counts assuming independence\n",
    "row_totals = [2500, 2500]\n",
    "col_totals = [3000, 2000]\n",
    "expected = []\n",
    "for i in range(2):\n",
    "    row_expected = []\n",
    "    for j in range(2):\n",
    "        row_expected.append(row_totals[i] * col_totals[j] / 5000)\n",
    "    expected.append(row_expected)\n",
    "\n",
    "# Perform chi-square test for independence\n",
    "chi2, p, _, _ = stats.chi2_contingency(observed)\n",
    "\n",
    "print(\"Observation table\")\n",
    "display(pd.DataFrame(observed))\n",
    "print(\"Expected table when assuming the purchase of hot dogs and hamburgers is independent\")\n",
    "display(pd.DataFrame(expected))\n",
    "\n",
    "print(\"chi-square statistic = \",chi2)\n",
    "print(\"p_value = \",p)\n",
    "print()\n",
    "# Compare observed counts with expected counts\n",
    "if chi2 > 0 and p < 0.05:\n",
    "    print(\"The purchase of hot dogs is greatly dependent on the purchase of hamburgers.\")\n",
    "    if observed[0][1] > expected[0][1]:\n",
    "        print(\"There is a positive correlation between hot dogs and hamburgers.\")\n",
    "    else:\n",
    "        print(\"There is a negative correlation between hot dogs and hamburgers.\")\n",
    "else:\n",
    "    print(\"The purchase of hot dogs is independent of the purchase of hamburgers.\")\n"
   ]
  },
  {
   "cell_type": "code",
   "execution_count": 50,
   "metadata": {},
   "outputs": [
    {
     "data": {
      "text/plain": [
       "array([[1500., 1000.],\n",
       "       [1500., 1000.]])"
      ]
     },
     "metadata": {},
     "output_type": "display_data"
    },
    {
     "name": "stdout",
     "output_type": "stream",
     "text": [
      "833.3333333333333 1 0.0\n"
     ]
    }
   ],
   "source": [
    "from scipy.stats import chi2\n",
    "# Observed counts\n",
    "observed = np.array([[2000, 500], [1000, 1500]])\n",
    "\n",
    "# Calculate expected counts assuming independence\n",
    "row_totals = np.sum(observed, axis=1)\n",
    "col_totals = np.sum(observed, axis=0)\n",
    "total = np.sum(row_totals)\n",
    "expected = np.outer(row_totals, col_totals) / total\n",
    "\n",
    "display(expected)\n",
    "\n",
    "# Calculate the chi-square statistic\n",
    "chi2_statistic = np.sum((observed - expected)**2 / expected)\n",
    "\n",
    "# Calculate the degrees of freedom\n",
    "degrees_of_freedom = (observed.shape[0] - 1) * (observed.shape[1] - 1)\n",
    "\n",
    "# Calculate the p-value\n",
    "p_value = 1 - chi2.cdf(chi2_statistic, degrees_of_freedom)\n",
    "\n",
    "\n",
    "print(chi2_statistic, degrees_of_freedom, p_value)"
   ]
  },
  {
   "attachments": {},
   "cell_type": "markdown",
   "metadata": {},
   "source": [
    "### c) Compare the use of the all confidence, max confidence, Kulczynski, and cosine measures with lift and correlation on the given data."
   ]
  },
  {
   "cell_type": "code",
   "execution_count": 31,
   "metadata": {},
   "outputs": [
    {
     "name": "stdout",
     "output_type": "stream",
     "text": [
      "All Confidence: 0.8\n",
      "Max Confidence: 0.8\n",
      "Kulczynski Measure: 0.6000000000000001\n",
      "Cosine Measure: 0.7302967433402214\n",
      "Lift Measure: 1.3333333333333335\n",
      "Correlation Measure: 0.408248290463863\n"
     ]
    }
   ],
   "source": [
    "import numpy as np\n",
    "\n",
    "# Create the contingency table\n",
    "contingency_table = np.array([[2000, 500],\n",
    "                             [1000, 1500]])\n",
    "\n",
    "# Calculate all confidence\n",
    "all_confidence = contingency_table[0, 0] / (contingency_table[0, 0] + contingency_table[0, 1])\n",
    "\n",
    "# Calculate max confidence\n",
    "max_confidence = max(contingency_table[0, 0] / (contingency_table[0, 0] + contingency_table[0, 1]),\n",
    "                     contingency_table[1, 0] / (contingency_table[1, 0] + contingency_table[1, 1]))\n",
    "\n",
    "# Calculate Kulczynski measure\n",
    "kulczynski_measure = 0.5 * ((contingency_table[0, 0] / (contingency_table[0, 0] + contingency_table[0, 1])) +\n",
    "                            (contingency_table[1, 0] / (contingency_table[1, 0] + contingency_table[1, 1])))\n",
    "\n",
    "# Calculate Cosine measure\n",
    "cosine_measure = contingency_table[0, 0] / np.sqrt((contingency_table[0, 0] + contingency_table[0, 1]) *\n",
    "                                                   (contingency_table[0, 0] + contingency_table[1, 0]))\n",
    "\n",
    "# Calculate Lift measure\n",
    "lift_measure = (contingency_table[0, 0] / (contingency_table[0, 0] + contingency_table[0, 1])) / \\\n",
    "               ((contingency_table[0, 0] + contingency_table[1, 0]) / np.sum(contingency_table))\n",
    "\n",
    "# Calculate Correlation measure\n",
    "observed = contingency_table[0, 0] * contingency_table[1, 1] - contingency_table[0, 1] * contingency_table[1, 0]\n",
    "expected = (contingency_table[0, 0] + contingency_table[0, 1]) * (contingency_table[0, 0] + contingency_table[1, 0]) * \\\n",
    "           (contingency_table[0, 1] + contingency_table[1, 1]) * (contingency_table[1, 0] + contingency_table[1, 1])\n",
    "correlation_measure = observed / np.sqrt(expected)\n",
    "\n",
    "# Print the results\n",
    "print(\"All Confidence:\", all_confidence)\n",
    "print(\"Max Confidence:\", max_confidence)\n",
    "print(\"Kulczynski Measure:\", kulczynski_measure)\n",
    "print(\"Cosine Measure:\", cosine_measure)\n",
    "print(\"Lift Measure:\", lift_measure)\n",
    "print(\"Correlation Measure:\", correlation_measure)"
   ]
  }
 ],
 "metadata": {
  "kernelspec": {
   "display_name": "DBM301-env",
   "language": "python",
   "name": "python3"
  },
  "language_info": {
   "codemirror_mode": {
    "name": "ipython",
    "version": 3
   },
   "file_extension": ".py",
   "mimetype": "text/x-python",
   "name": "python",
   "nbconvert_exporter": "python",
   "pygments_lexer": "ipython3",
   "version": "3.11.3"
  },
  "orig_nbformat": 4
 },
 "nbformat": 4,
 "nbformat_minor": 2
}
