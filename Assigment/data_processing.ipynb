{
 "cells": [
  {
   "attachments": {},
   "cell_type": "markdown",
   "metadata": {},
   "source": [
    "# Weather forecasting"
   ]
  },
  {
   "attachments": {},
   "cell_type": "markdown",
   "metadata": {},
   "source": [
    "## 1. Overview\n",
    "\n",
    "### 1.1 Description Project\n",
    "(content)\n"
   ]
  },
  {
   "cell_type": "code",
   "execution_count": null,
   "metadata": {},
   "outputs": [],
   "source": [
    "import numpy as np\n",
    "import pandas as pd\n",
    "import os\n",
    "import matplotlib.pyplot as plt\n",
    "#import pandas_datareader as web\n",
    "import datetime as dt\n",
    "#import seaborn as sns\n",
    "\n"
   ]
  },
  {
   "attachments": {},
   "cell_type": "markdown",
   "metadata": {},
   "source": [
    "### 1.2 Dataset overview\n",
    "link: https://www.kaggle.com/datasets/vanviethieuanh/vietnam-weather-data?fbclid=IwAR0wTzEzC_QOh10_F4su1WL9ccU70RFFIFaUuJkr-p7FszG3KS3t9AhbHT4 \n",
    "(content)\n"
   ]
  },
  {
   "cell_type": "code",
   "execution_count": null,
   "metadata": {},
   "outputs": [],
   "source": [
    "BASE_DIR = os.getcwd()\n",
    "data_path = os.path.join(BASE_DIR,'data','weather.csv')\n",
    "df = pd.read_csv(data_path)\n",
    "df.head()"
   ]
  },
  {
   "cell_type": "code",
   "execution_count": null,
   "metadata": {},
   "outputs": [],
   "source": [
    "df.info()"
   ]
  },
  {
   "cell_type": "code",
   "execution_count": null,
   "metadata": {},
   "outputs": [],
   "source": [
    "# number of province and the amount of entity on each   \n",
    "provinces = df[\"province\"].value_counts()\n",
    "provinces"
   ]
  },
  {
   "cell_type": "code",
   "execution_count": null,
   "metadata": {},
   "outputs": [],
   "source": [
    "#amount of province\n",
    "print(len(provinces),type(provinces))"
   ]
  },
  {
   "cell_type": "code",
   "execution_count": null,
   "metadata": {},
   "outputs": [],
   "source": [
    "province_list = provinces.index.tolist()"
   ]
  },
  {
   "cell_type": "code",
   "execution_count": null,
   "metadata": {},
   "outputs": [],
   "source": [
    "type(province_list)"
   ]
  },
  {
   "attachments": {},
   "cell_type": "markdown",
   "metadata": {},
   "source": [
    "## 1. Data Exploration\n"
   ]
  },
  {
   "attachments": {},
   "cell_type": "markdown",
   "metadata": {},
   "source": [
    "### 1.1 Extract weather data by province name "
   ]
  },
  {
   "cell_type": "code",
   "execution_count": null,
   "metadata": {},
   "outputs": [],
   "source": [
    "def extract_data_by_province(df,province_name):\n",
    "    province = df.query(\"province == @province_name\")\n",
    "    province = province.drop(columns=\"province\")\n",
    "    province = province.set_index(\"date\").sort_index()\n",
    "    return province"
   ]
  },
  {
   "cell_type": "code",
   "execution_count": null,
   "metadata": {},
   "outputs": [],
   "source": [
    "data_extracted = dict()\n",
    "\n",
    "for province in province_list:\n",
    "    data_extracted[province] = extract_data_by_province(df,province)\n",
    "\n",
    "len(data_extracted)"
   ]
  },
  {
   "cell_type": "code",
   "execution_count": null,
   "metadata": {},
   "outputs": [],
   "source": [
    "print(data_extracted['Bac Lieu'])"
   ]
  },
  {
   "attachments": {},
   "cell_type": "markdown",
   "metadata": {},
   "source": [
    "### 1.2 Data visualizing"
   ]
  },
  {
   "attachments": {},
   "cell_type": "markdown",
   "metadata": {},
   "source": [
    "Data visualizing"
   ]
  },
  {
   "cell_type": "code",
   "execution_count": null,
   "metadata": {},
   "outputs": [],
   "source": [
    "index = data_extracted['Bac Lieu'].squeeze('index')"
   ]
  },
  {
   "cell_type": "code",
   "execution_count": null,
   "metadata": {},
   "outputs": [],
   "source": [
    "index"
   ]
  },
  {
   "cell_type": "code",
   "execution_count": null,
   "metadata": {},
   "outputs": [],
   "source": [
    "for name,data in data_extracted.items():\n",
    "    print(data.describe())\n",
    "    fig,(ax1,ax2,ax3) = plt.subplots(nrows=3)\n",
    "    plt.figure(figsize=(10,5))\n",
    "    plt.xlabel(\"date\")\n",
    "    ax1.plot()\n",
    "    data[\"min\"].plot()\n",
    "    # data[\"humidi\"].plot()\n",
    "    # data[\"cloud\"].plot()\n",
    "    # data[\"pressure\"].plot()\n",
    "    plt.title(\"keep = \" + str(name))\n",
    "    plt.show()\n",
    "    break\n",
    "\n",
    " "
   ]
  },
  {
   "cell_type": "code",
   "execution_count": null,
   "metadata": {},
   "outputs": [],
   "source": [
    "df.describe()"
   ]
  },
  {
   "attachments": {},
   "cell_type": "markdown",
   "metadata": {},
   "source": [
    "## Clean data\n",
    "\n",
    "- Remove redundant columns\n",
    "- Remove duplicates\n",
    "- Handle missing values\n",
    "- Convert data types to the correct data type"
   ]
  },
  {
   "cell_type": "code",
   "execution_count": null,
   "metadata": {},
   "outputs": [],
   "source": [
    "# Drop Unamed col\n",
    "df = df.loc[:, ~df.columns.str.contains('^Unnamed')]\n",
    "# Drop duplicated!\n",
    "df = df.dropna(axis='columns',how='all')"
   ]
  },
  {
   "cell_type": "code",
   "execution_count": null,
   "metadata": {},
   "outputs": [],
   "source": [
    "def fill_nan_cell(df):\n",
    "    for col in df.columns:\n",
    "        df[col].fillna((df[col].mean()), inplace=True)\n",
    "    return df"
   ]
  },
  {
   "cell_type": "code",
   "execution_count": null,
   "metadata": {},
   "outputs": [],
   "source": [
    "df = fill_nan_cell(df)"
   ]
  },
  {
   "cell_type": "code",
   "execution_count": null,
   "metadata": {},
   "outputs": [],
   "source": [
    "df.info()"
   ]
  },
  {
   "attachments": {},
   "cell_type": "markdown",
   "metadata": {},
   "source": [
    "## Visualization"
   ]
  },
  {
   "cell_type": "code",
   "execution_count": null,
   "metadata": {},
   "outputs": [],
   "source": [
    "df[\"Temparature\"].plot(figsize=(10,5), title=\"Temparature\")\n"
   ]
  },
  {
   "cell_type": "code",
   "execution_count": null,
   "metadata": {},
   "outputs": [],
   "source": [
    "df[\"Temparature\"].plot(figsize=(10,5), title=\"Temparature\")\n"
   ]
  },
  {
   "attachments": {},
   "cell_type": "markdown",
   "metadata": {},
   "source": [
    "## Standarlize"
   ]
  },
  {
   "cell_type": "code",
   "execution_count": null,
   "metadata": {},
   "outputs": [],
   "source": [
    "df[\"Temparature_std\"] =( df[\"Temparature\"] - df['Temparature'].mean() ) / df[\"Temparature\"].std()"
   ]
  },
  {
   "cell_type": "code",
   "execution_count": null,
   "metadata": {},
   "outputs": [],
   "source": [
    "df[\"Temparature_std\"].plot(figsize=(20,10))"
   ]
  },
  {
   "attachments": {},
   "cell_type": "markdown",
   "metadata": {},
   "source": [
    "## Wavelet Transform\n",
    "\n"
   ]
  },
  {
   "attachments": {},
   "cell_type": "markdown",
   "metadata": {},
   "source": [
    "<img src=\"/home/nghia/Work/code/DBM301/Assigment/illustration/The_Wavelet_Transform_for_Beginners.gif\" style=\"width:1000px;height:700px;\">"
   ]
  },
  {
   "attachments": {},
   "cell_type": "markdown",
   "metadata": {},
   "source": [
    "Reference:\n",
    "- https://ataspinar.com/2018/12/21/a-guide-for-using-the-wavelet-transform-in-machine-learning/ \n",
    "- https://youtu.be/jnxqHcObNK4 \n",
    "- https://youtu.be/eJLF9HeZA8I "
   ]
  },
  {
   "attachments": {},
   "cell_type": "markdown",
   "metadata": {},
   "source": [
    "The wavelet transforms the data can be truncated and this is helpful in data reduction. If we store a small fraction of the strongest wavelet coefficients then the compressed approximation of the original data can be obtained. "
   ]
  },
  {
   "cell_type": "code",
   "execution_count": null,
   "metadata": {},
   "outputs": [],
   "source": [
    "import pywt\n",
    "signal = df[\"Temparature_std\"].values.squeeze()\n",
    "time = df.index.to_numpy()\n"
   ]
  },
  {
   "cell_type": "code",
   "execution_count": null,
   "metadata": {},
   "outputs": [],
   "source": [
    "print(signal.shape)"
   ]
  },
  {
   "cell_type": "code",
   "execution_count": null,
   "metadata": {},
   "outputs": [],
   "source": [
    "\n",
    "fig, ax = plt.subplots(figsize=(6,1))\n",
    "ax.set_title(\"Original Signal: \")\n",
    "ax.plot(signal)\n",
    "plt.show()\n",
    "    \n",
    "data = signal\n",
    "waveletname = 'db5'\n",
    " \n",
    "fig, axarr = plt.subplots(nrows=5, ncols=2, figsize=(6,6))\n",
    "for ii in range(5):\n",
    "    (data, coeff_d) = pywt.dwt(data, waveletname)\n",
    "    print(data.shape,coeff_d.shape)\n",
    "    axarr[ii, 0].plot(data, 'r')\n",
    "    axarr[ii, 1].plot(coeff_d, 'g')\n",
    "    axarr[ii, 0].set_ylabel(\"Level {}\".format(ii + 1), fontsize=14, rotation=90)\n",
    "    axarr[ii, 0].set_yticklabels([])\n",
    "    if ii == 0:\n",
    "        axarr[ii, 0].set_title(\"Approximation coefficients\", fontsize=14)\n",
    "        axarr[ii, 1].set_title(\"Detail coefficients\", fontsize=14)\n",
    "    axarr[ii, 1].set_yticklabels([])\n",
    "plt.tight_layout()\n",
    "plt.show()"
   ]
  },
  {
   "attachments": {},
   "cell_type": "markdown",
   "metadata": {},
   "source": [
    "- The DWT return two sets of coefficients; the approximation coefficients and detail coefficients.\n",
    "- The approximation coefficients represent the output of the low pass filter (averaging filter) of the DWT.\n",
    "- The detail coefficients represent the output of the high pass filter (difference filter) of the DWT.\n",
    "\n",
    "Length of coefficients arrays depends on the selected mode. For all modes except periodization:\n",
    "\n",
    "len(cA) == len(cD) == floor((len(data) + wavelet.dec_len - 1) / 2)\n",
    "\n",
    "For periodization mode (“per”):\n",
    "\n",
    "len(cA) == len(cD) == ceil(len(data) / 2)"
   ]
  },
  {
   "cell_type": "code",
   "execution_count": null,
   "metadata": {},
   "outputs": [],
   "source": [
    "## wavelet Compression\n",
    "level= 5\n",
    "waveletname = \"db5\"\n",
    "\n",
    "#show original\n",
    "fig, ax = plt.subplots(figsize=(8,4))\n",
    "ax.set_title(\"Original Signal: \")\n",
    "ax.plot(time,signal)\n",
    "plt.show()\n",
    "\n",
    "\n",
    "coeffs = pywt.wavedec(signal, waveletname, level=level)\n",
    "coeff_arr, coeff_slices = pywt.coeffs_to_array(coeffs)\n",
    "\n",
    "Csort = np.sort(np.abs(coeff_arr.reshape(-1)))\n",
    "print(Csort.shape)\n",
    "\n",
    "for keep in (0.5, 0.1, 0.05, 0.001):\n",
    "    #find desire threshold point \n",
    "    thresh = Csort[int(np.floor((1-keep)*len(Csort)))]\n",
    "    ind = np.abs(coeff_arr) > thresh\n",
    "    cfilt = coeff_arr * ind\n",
    "\n",
    "    coeffs_filt = pywt.array_to_coeffs(cfilt,coeff_slices, output_format='wavedec')\n",
    "\n",
    "    #plot reconstruction\n",
    "    compress = pywt.waverec(coeffs_filt,wavelet=waveletname)\n",
    "    plt.figure(figsize=(8,4))\n",
    "    plt.plot(time,compress)\n",
    "    plt.title(\"keep = \" + str(keep))\n",
    "    plt.show()\n",
    "\n",
    "    print(len(Csort)-int(np.floor((1-keep)*len(Csort))))\n",
    "\n"
   ]
  },
  {
   "cell_type": "code",
   "execution_count": null,
   "metadata": {},
   "outputs": [],
   "source": [
    "\n",
    "(cA1, cD1) = pywt.dwt(signal, 'db2')\n",
    "reconstructed_signal = pywt.idwt(cA1, cD1, 'db2', 'smooth')\n",
    " \n",
    "fig, ax = plt.subplots(figsize=(20,10))\n",
    "ax.plot(time,signal, label='signal')\n",
    "ax.plot(time,reconstructed_signal, label='reconstructed signal', linestyle='--')\n",
    "ax.legend(loc='upper left')\n",
    "plt.show()"
   ]
  }
 ],
 "metadata": {
  "kernelspec": {
   "display_name": "DBM301-env",
   "language": "python",
   "name": "python3"
  },
  "language_info": {
   "codemirror_mode": {
    "name": "ipython",
    "version": 3
   },
   "file_extension": ".py",
   "mimetype": "text/x-python",
   "name": "python",
   "nbconvert_exporter": "python",
   "pygments_lexer": "ipython3",
   "version": "3.11.3"
  },
  "orig_nbformat": 4
 },
 "nbformat": 4,
 "nbformat_minor": 2
}
